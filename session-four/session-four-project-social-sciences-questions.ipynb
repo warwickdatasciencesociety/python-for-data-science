{
 "cells": [
  {
   "cell_type": "markdown",
   "id": "16c27953-49a2-4948-a876-29a271f2acd8",
   "metadata": {},
   "source": [
    "# Python for Data Science Project Session 4: Social Sciences"
   ]
  },
  {
   "cell_type": "markdown",
   "id": "5f7ca587-2df9-43e3-a65a-5831227eb704",
   "metadata": {},
   "source": [
    "In the previous notebooks, the datasets you have been using to compete the tasks have been readily transformed into a format that is easy and clean to work with.  In this notebook, we will revist the data set used in session 3 that was titled `income_df`.  The dataset had already been cleaned, ordered to match the countries of the happiness survey, and been given the following categorical variables:\n",
    "\n",
    "* High income country = 3\n",
    "* Upper middle income country = 2\n",
    "* Lower middle income country = 1\n",
    "* Low income country = 0\n",
    "\n",
    "Session 4 has now given you the tools to transform the orginal raw form of the data.  Working with country names and data is common in social sciences, but can be complicated by different spellings, and territory vs countries vs regions vs continent distinctions.  The techniques used below to clean up the dataset are useful tools that can be applied whenever working with country data."
   ]
  },
  {
   "cell_type": "markdown",
   "id": "210922ee-d1ef-4b76-9316-29aff1b49b8a",
   "metadata": {},
   "source": [
    "## Initial dataset cleaning "
   ]
  },
  {
   "cell_type": "markdown",
   "id": "d660c060-0797-42f0-85f0-c0f4f00656cd",
   "metadata": {},
   "source": [
    "Start by importing pandas."
   ]
  },
  {
   "cell_type": "code",
   "execution_count": null,
   "id": "401fbfce-7fd1-4bcc-8ca9-ba85b34e2ee1",
   "metadata": {},
   "outputs": [],
   "source": []
  },
  {
   "cell_type": "markdown",
   "id": "c45e11ff-0e66-47b6-a161-a11e80f0fa18",
   "metadata": {},
   "source": [
    "Import the file `Raw_country_income_category.csv`, naming the dataset as `raw_df`."
   ]
  },
  {
   "cell_type": "code",
   "execution_count": null,
   "id": "b14cbc9d-cf9b-444f-85c7-5600753e88e5",
   "metadata": {},
   "outputs": [],
   "source": []
  },
  {
   "cell_type": "markdown",
   "id": "51516266-f6fd-4e9f-8af2-2b1306d32c5f",
   "metadata": {},
   "source": [
    "We only need 2 columns from this dataframe - `IncomeGroup` which gives each country an associated income band, and `TableName` which contains the names of region/countries.  Create a new dataframe with these two columns called `raw_income_df`."
   ]
  },
  {
   "cell_type": "code",
   "execution_count": null,
   "id": "b1f23f0e-c565-4c25-898c-fea2a0c54f2a",
   "metadata": {},
   "outputs": [],
   "source": []
  },
  {
   "cell_type": "markdown",
   "id": "7bc80787-2b26-4b9b-a1b2-e14e9ddbb0bc",
   "metadata": {},
   "source": [
    "We can go ahead and change the `Income Group` values in `raw_income_df` into the following categorical values:\n",
    "\n",
    "* High income = 3\n",
    "* Upper middle income = 2\n",
    "* Lower middle income = 1\n",
    "* Low income = 0\n",
    "\n",
    "Do this using the `.replace({\"Old Value\" : \"New Value\"}, inplace=True)`"
   ]
  },
  {
   "cell_type": "code",
   "execution_count": null,
   "id": "806d409d-0f17-4100-b765-3b4d76991fcd",
   "metadata": {},
   "outputs": [],
   "source": []
  },
  {
   "cell_type": "markdown",
   "id": "422cd3ae-0086-439c-8dd3-b7ee25ed7e91",
   "metadata": {},
   "source": [
    "Because of the missing values, Python automatically converts integers into floats, and will not allow for traditional approaches to change it back.  This is annoying because we want the numbers in the `IncomeGroup` to represent categorical values - and hence be integers.\n",
    "\n",
    "We could correct this once we have dealt with our missing values, but the following code is a neat to trick to make the change now!\n",
    "\n",
    "Using `Int64` opposed to `Int` tells  python to disregard any `NaN` values. Run the code below to convert the floats in the `IncomeGroup` column of the `raw_income_df` into integers. "
   ]
  },
  {
   "cell_type": "code",
   "execution_count": 6,
   "id": "de477c31-d68c-49a0-939e-a9cae68ea332",
   "metadata": {},
   "outputs": [
    {
     "data": {
      "text/html": [
       "<div>\n",
       "<style scoped>\n",
       "    .dataframe tbody tr th:only-of-type {\n",
       "        vertical-align: middle;\n",
       "    }\n",
       "\n",
       "    .dataframe tbody tr th {\n",
       "        vertical-align: top;\n",
       "    }\n",
       "\n",
       "    .dataframe thead th {\n",
       "        text-align: right;\n",
       "    }\n",
       "</style>\n",
       "<table border=\"1\" class=\"dataframe\">\n",
       "  <thead>\n",
       "    <tr style=\"text-align: right;\">\n",
       "      <th></th>\n",
       "      <th>IncomeGroup</th>\n",
       "      <th>TableName</th>\n",
       "    </tr>\n",
       "  </thead>\n",
       "  <tbody>\n",
       "    <tr>\n",
       "      <th>0</th>\n",
       "      <td>3</td>\n",
       "      <td>Aruba</td>\n",
       "    </tr>\n",
       "    <tr>\n",
       "      <th>1</th>\n",
       "      <td>&lt;NA&gt;</td>\n",
       "      <td>Africa Eastern and Southern</td>\n",
       "    </tr>\n",
       "    <tr>\n",
       "      <th>2</th>\n",
       "      <td>0</td>\n",
       "      <td>Afghanistan</td>\n",
       "    </tr>\n",
       "    <tr>\n",
       "      <th>3</th>\n",
       "      <td>&lt;NA&gt;</td>\n",
       "      <td>Africa Western and Central</td>\n",
       "    </tr>\n",
       "    <tr>\n",
       "      <th>4</th>\n",
       "      <td>1</td>\n",
       "      <td>Angola</td>\n",
       "    </tr>\n",
       "    <tr>\n",
       "      <th>...</th>\n",
       "      <td>...</td>\n",
       "      <td>...</td>\n",
       "    </tr>\n",
       "    <tr>\n",
       "      <th>260</th>\n",
       "      <td>2</td>\n",
       "      <td>Kosovo</td>\n",
       "    </tr>\n",
       "    <tr>\n",
       "      <th>261</th>\n",
       "      <td>0</td>\n",
       "      <td>Yemen, Rep.</td>\n",
       "    </tr>\n",
       "    <tr>\n",
       "      <th>262</th>\n",
       "      <td>2</td>\n",
       "      <td>South Africa</td>\n",
       "    </tr>\n",
       "    <tr>\n",
       "      <th>263</th>\n",
       "      <td>1</td>\n",
       "      <td>Zambia</td>\n",
       "    </tr>\n",
       "    <tr>\n",
       "      <th>264</th>\n",
       "      <td>1</td>\n",
       "      <td>Zimbabwe</td>\n",
       "    </tr>\n",
       "  </tbody>\n",
       "</table>\n",
       "<p>265 rows × 2 columns</p>\n",
       "</div>"
      ],
      "text/plain": [
       "     IncomeGroup                    TableName\n",
       "0              3                        Aruba\n",
       "1           <NA>  Africa Eastern and Southern\n",
       "2              0                  Afghanistan\n",
       "3           <NA>   Africa Western and Central\n",
       "4              1                       Angola\n",
       "..           ...                          ...\n",
       "260            2                       Kosovo\n",
       "261            0                  Yemen, Rep.\n",
       "262            2                 South Africa\n",
       "263            1                       Zambia\n",
       "264            1                     Zimbabwe\n",
       "\n",
       "[265 rows x 2 columns]"
      ]
     },
     "execution_count": 6,
     "metadata": {},
     "output_type": "execute_result"
    }
   ],
   "source": [
    "raw_income_df.IncomeGroup = raw_income_df.IncomeGroup.astype('Int64')\n",
    "raw_income_df"
   ]
  },
  {
   "cell_type": "markdown",
   "id": "720db632-e685-4f76-b3dd-05a4c437e894",
   "metadata": {},
   "source": [
    "## Data filtering: reindexing "
   ]
  },
  {
   "cell_type": "markdown",
   "id": "dac6e2b1-b6ef-4ed9-8c14-bfc4dfd683f0",
   "metadata": {},
   "source": [
    "Having established the main components of our income category dataset, we want to start associating it with our happiness dataset in order to make sure each country is given an income category.  Working with country names is often tricky due to different spellings, abbreviations, and ongoing debates about whether a territory is a country or not - such as Taiwan and Palestine.  Trial and error is often an important practice when dealing with special cases.\n",
    "\n",
    "Start by importing the `Happiness_survey_2019.csv` file and call it `happy_df`."
   ]
  },
  {
   "cell_type": "code",
   "execution_count": null,
   "id": "5e6977ff-9e6a-4bf1-a45d-fdc310ae8770",
   "metadata": {},
   "outputs": [],
   "source": []
  },
  {
   "cell_type": "markdown",
   "id": "3cfa0e2d-509e-448b-a293-e12ae11f0900",
   "metadata": {},
   "source": [
    "A quick an effective way to filter through our income category data in relation to the countries in the `happy_df` is reindexing the former in terms of the later.  Study the following example (https://stackoverflow.com/questions/45576800/how-to-sort-dataframe-based-on-a-column-in-another-dataframe-in-pandas), and then follow the steps below.\n",
    "\n",
    "First, we are going to create a new dataframe titled `income1_df`.  This will consist of the country names in `raw_income_df` being set as the index. "
   ]
  },
  {
   "cell_type": "code",
   "execution_count": null,
   "id": "674b31b4-075c-484d-93dc-208500aba342",
   "metadata": {},
   "outputs": [],
   "source": []
  },
  {
   "cell_type": "markdown",
   "id": "6f8cdad0-835c-458a-9c9a-e77579e2d176",
   "metadata": {},
   "source": [
    "Now, we are going to reindex `income_df` in relation to the `Country or region` column of the `happy_df`.  This will organise countries in `income_df` in the same order as the countries in the `happy_df`, which will simplify joining the two dataframes later down the line."
   ]
  },
  {
   "cell_type": "code",
   "execution_count": null,
   "id": "347ef86e-451a-44d4-b770-244d20b80cb1",
   "metadata": {},
   "outputs": [],
   "source": []
  },
  {
   "cell_type": "markdown",
   "id": "f93cce2f-37a1-4cb1-b406-a7f363c9a067",
   "metadata": {},
   "source": [
    "Finally, reset the index of `income1_df` so that it is back to being numbered.  Call this dataframe `income_df`.  If we don't rename it here, every time we run the `reset_index` command, it will add a new index."
   ]
  },
  {
   "cell_type": "code",
   "execution_count": null,
   "id": "705d4e77-9fec-4d3b-b6eb-b05a0cd4df98",
   "metadata": {},
   "outputs": [],
   "source": []
  },
  {
   "cell_type": "markdown",
   "id": "d4cd2923-e606-4d35-a511-724d103c8f3a",
   "metadata": {},
   "source": [
    "## Missing Values"
   ]
  },
  {
   "cell_type": "markdown",
   "id": "ed320b2b-3544-4091-9893-d2c8fe9c787c",
   "metadata": {},
   "source": [
    "Having filtered through our income category data in relation to our happiness data, we now have to deal with missing values.  \n",
    "\n",
    "To do this, first we are going to create a boolean array from `income_df` using the function `.isnull().value`.  We want any value in the `IncomeGroup` column that is missing (aka NaN) to be marked as `True`.  Do this below."
   ]
  },
  {
   "cell_type": "code",
   "execution_count": null,
   "id": "f0b7dae7-2c51-4e69-9657-ade15c2c7e69",
   "metadata": {},
   "outputs": [],
   "source": []
  },
  {
   "cell_type": "markdown",
   "id": "6ed97949-5605-4c20-90d0-e5e0c30725fd",
   "metadata": {},
   "source": [
    "Next, use `.loc[]` to filter through `income_df` using the boolean array code you wrote above.  This will create a list of all the countries who are missing an income group category.  Title this dataframe `missing`. \n",
    "\n",
    "ps. don't forget to add `.copy()` to the end."
   ]
  },
  {
   "cell_type": "code",
   "execution_count": null,
   "id": "58e3c18a-ef75-442c-ab06-cd75ed0cb7de",
   "metadata": {},
   "outputs": [],
   "source": []
  },
  {
   "cell_type": "markdown",
   "id": "c067d58d-e02e-4e58-9ed5-93e49f8f7e6f",
   "metadata": {},
   "source": [
    "Now, redfine the `mising` dataframe such that the `IncomeGroup` column is dropped.  That way, when we find our missing values, we can make them into a list that can easily be added onto the dataframe instead of having to alter the value in each row individually.  Call this new dataframe `missing_countries`."
   ]
  },
  {
   "cell_type": "code",
   "execution_count": null,
   "id": "1237428b-7688-4642-a90d-4c60b863d1b1",
   "metadata": {},
   "outputs": [],
   "source": []
  },
  {
   "cell_type": "markdown",
   "id": "2902c5e7-2d39-45e4-96bb-6e5a9150f14c",
   "metadata": {},
   "source": [
    "Now comes the tricky part of finding the missing country's income level manually.  This can be done by checking the original dataset of `raw_income_df` to see if the country is written under a different name; or having to do wider research to determine the correct income category.\n",
    "\n",
    "We are first going to do the former, searching for portions of strings in `raw_income_df` to help find the missing countries income category.\n",
    "\n",
    "As an example, we are going to try to find the associated income group of Yemen.  \n",
    "\n",
    "Use the following code: `df.str.contains(\"pattern\", case=False, na=False)`, in which:\n",
    "* `pattern` = substring we are searching for\n",
    "* `case = False` implies case insensitivity\n",
    "* `na=False` means any missing values will return as without a pattern\n",
    "\n",
    "Title this function `mask`, and then apply it to the raw income dataframe such that: `raw_income_df[mask]`."
   ]
  },
  {
   "cell_type": "code",
   "execution_count": null,
   "id": "60975cff-ffbc-455b-878d-f3faafe03161",
   "metadata": {},
   "outputs": [],
   "source": []
  },
  {
   "cell_type": "markdown",
   "id": "e2bf2c9a-295a-4a7b-bcf0-a6e09776f723",
   "metadata": {},
   "source": [
    "This would have to be done for all the countries, and if the data cannot be found in the `raw_income_df`, wider research would have to be conducted.  With this information, a list titled `missing_values` with the income category values in the same order as the `missing_countries` is created.  I have done the majority of the hard work, but have left the space for Yemen blank for you to fill in."
   ]
  },
  {
   "cell_type": "code",
   "execution_count": 15,
   "id": "9d24534d-61c3-4768-96c0-2a9037370ad8",
   "metadata": {},
   "outputs": [
    {
     "data": {
      "text/plain": [
       "[2, 3, 3, 3, 3, 2, 2, 1, 1, 1, 1, 1, 1, 1, 0, 0, 1, 0, 0, 0]"
      ]
     },
     "execution_count": 15,
     "metadata": {},
     "output_type": "execute_result"
    }
   ],
   "source": [
    "missing_values = [2,3,3,3,3,2,2,1,1,1,1,1,1,1,0,0,1,0,0,#]\n",
    "missing_values"
   ]
  },
  {
   "cell_type": "markdown",
   "id": "01a6c266-221b-46c0-bfb5-67639cd6a25b",
   "metadata": {},
   "source": [
    "Finally, add the list of missing income values to the `missing` dataframe using the following function: `df[\"new column title\"] = list`.  Call the new column `IncomeGroup`."
   ]
  },
  {
   "cell_type": "code",
   "execution_count": null,
   "id": "cd3a7a55-7d72-47bc-922e-a62a47111732",
   "metadata": {},
   "outputs": [],
   "source": []
  },
  {
   "cell_type": "markdown",
   "id": "7d7a998f-2e6b-47c2-96db-b87e0122e0f1",
   "metadata": {},
   "source": [
    "## Final dataframe creation "
   ]
  },
  {
   "cell_type": "markdown",
   "id": "4f009dbb-b4f0-4090-ac2d-cceaf554d4a8",
   "metadata": {},
   "source": [
    "The final step is to put it all together, establishing our final country income category dataset!\n",
    "\n",
    "To do so, we can use the following really handy function: `df1.combine_first(df_2)`.\n",
    "\n",
    "This will fill in the missing values in a `df1` based on the values at corresponding indexes in `df2`.  Do so below with the `income_df` and `missing` dataframes, tittling this completed dataframe as `final_income_df`."
   ]
  },
  {
   "cell_type": "code",
   "execution_count": null,
   "id": "3a73dc63-0779-49d7-832c-9e0a92d3cc05",
   "metadata": {},
   "outputs": [],
   "source": []
  },
  {
   "cell_type": "markdown",
   "id": "7ed4b16b-313d-4837-bed7-954d6670cb90",
   "metadata": {},
   "source": [
    "Finally, export the dataframe we have created into a csv file using `df.to_csv(\"Name_of_file\", index=False)`.  Setting the index to `False` stops Python's default setting of adding an index column - as we already have one. "
   ]
  },
  {
   "cell_type": "code",
   "execution_count": null,
   "id": "18239eaa-dc19-4231-806c-53a592b5e1ea",
   "metadata": {},
   "outputs": [],
   "source": []
  },
  {
   "cell_type": "markdown",
   "id": "27b0708b-27e5-4bb6-9a0b-11e1516599cb",
   "metadata": {},
   "source": [
    "## Final Thoughts"
   ]
  },
  {
   "cell_type": "markdown",
   "id": "20786098-42fb-4992-8d4a-50d73e90f02a",
   "metadata": {},
   "source": [
    "As I mentionned in the begining, working with country data is tricky.  \n",
    "\n",
    "Before wrapping off this sesssion, I want to touch on the package `pycountry`. This is a useful library that has various componenents to it: country letter codes, continents of countries, and a full country list to name a few.  If we didn't have the `happy_df` to filter with, using the country list would have been another approach.\n",
    "\n",
    "For example, run the code below to create a list of countries:"
   ]
  },
  {
   "cell_type": "code",
   "execution_count": null,
   "id": "15cd8af4-2f42-42df-bc30-8dc99d78db0b",
   "metadata": {},
   "outputs": [],
   "source": [
    "import pycountry \n",
    "\n",
    "countries_list = []\n",
    "for country in pycountry.countries:\n",
    "    countries_list.append(country.name)\n",
    "    \n",
    "countries_list"
   ]
  },
  {
   "cell_type": "markdown",
   "id": "294e65c3-1a23-419a-927a-cefc22398359",
   "metadata": {},
   "source": [
    "Now, use this list of countries to filter through our income category dataframe `raw_income_df`."
   ]
  },
  {
   "cell_type": "code",
   "execution_count": null,
   "id": "4332af24-b0a9-444a-9a47-a0fc35f6ebba",
   "metadata": {},
   "outputs": [],
   "source": []
  },
  {
   "cell_type": "markdown",
   "id": "f9cb32f1-ffb4-4c57-b209-c1bd6fa633d3",
   "metadata": {},
   "source": [
    "As you can see, this has created a dataframe of 186 countries and their associated income category - removing regional data points.  There are undoubtely  errors in this dataframe, such as values wrongly removed due to different spellings - but it is a useful tool when working with country data.\n",
    "\n",
    "Hope you enjoyed this session, and it provided you with some useful tools that will help you code in a more efficient way!"
   ]
  }
 ],
 "metadata": {
  "kernelspec": {
   "display_name": "Python for Data Science",
   "language": "python",
   "name": "pyds"
  },
  "language_info": {
   "codemirror_mode": {
    "name": "ipython",
    "version": 3
   },
   "file_extension": ".py",
   "mimetype": "text/x-python",
   "name": "python",
   "nbconvert_exporter": "python",
   "pygments_lexer": "ipython3",
   "version": "3.8.11"
  }
 },
 "nbformat": 4,
 "nbformat_minor": 5
}
