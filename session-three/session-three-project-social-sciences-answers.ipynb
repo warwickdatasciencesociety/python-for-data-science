{
 "cells": [
  {
   "cell_type": "markdown",
   "id": "33961a91-219f-4864-bdc5-9a1bf7b46526",
   "metadata": {},
   "source": [
    "# Python for Data Science Project Session 3: Social Sciences"
   ]
  },
  {
   "cell_type": "markdown",
   "id": "14d8ea0d-1f5a-4de0-a790-a6f225ac593d",
   "metadata": {},
   "source": [
    "The combination of social sciences and maths is not really any social sciences kid's fave combo (perhaps besides the econ kids) ... which is why NumPy is a useful tool to help simplfy our lives!  \n",
    "\n",
    "We will cover two sub-projects in this workbook.  Firstly, we will look at happiness data, practicing techniques to manage and alter arrays.  Secondly, we will look at population growth modelling for India, making use of NumPy's mathematical operations to extrapolate the data.  We will then plot these extrapolation outcomes - a nice little refresher on Session 2 data visualisation."
   ]
  },
  {
   "cell_type": "markdown",
   "id": "96eaa88a-3f49-4052-a7e8-0b7d99e857c1",
   "metadata": {},
   "source": [
    "Start by importing the following packages:"
   ]
  },
  {
   "cell_type": "code",
   "execution_count": 2,
   "id": "00f01690-7a5c-4593-bb67-4452d0842af6",
   "metadata": {},
   "outputs": [],
   "source": [
    "import pandas as pd\n",
    "import numpy as np\n",
    "import matplotlib.pyplot as plt"
   ]
  },
  {
   "cell_type": "markdown",
   "id": "1ce7719b-6254-4974-b94c-a296576807a5",
   "metadata": {},
   "source": [
    "## Section 1: Happiness data"
   ]
  },
  {
   "cell_type": "markdown",
   "id": "dcbcd2b0-fefd-452f-ab3f-d653ed441794",
   "metadata": {},
   "source": [
    "Import the data file `Happiness_survey_2019.csv` and name the dataset `happy_df`."
   ]
  },
  {
   "cell_type": "code",
   "execution_count": 4,
   "id": "b4796ded-e658-40b1-88a3-27d09a0775a6",
   "metadata": {},
   "outputs": [
    {
     "data": {
      "text/html": [
       "<div>\n",
       "<style scoped>\n",
       "    .dataframe tbody tr th:only-of-type {\n",
       "        vertical-align: middle;\n",
       "    }\n",
       "\n",
       "    .dataframe tbody tr th {\n",
       "        vertical-align: top;\n",
       "    }\n",
       "\n",
       "    .dataframe thead th {\n",
       "        text-align: right;\n",
       "    }\n",
       "</style>\n",
       "<table border=\"1\" class=\"dataframe\">\n",
       "  <thead>\n",
       "    <tr style=\"text-align: right;\">\n",
       "      <th></th>\n",
       "      <th>Overall rank</th>\n",
       "      <th>Country or region</th>\n",
       "      <th>Score</th>\n",
       "      <th>GDP per capita</th>\n",
       "      <th>Social support</th>\n",
       "      <th>Healthy life expectancy</th>\n",
       "      <th>Freedom to make life choices</th>\n",
       "      <th>Generosity</th>\n",
       "      <th>Perceptions of corruption</th>\n",
       "    </tr>\n",
       "  </thead>\n",
       "  <tbody>\n",
       "    <tr>\n",
       "      <th>0</th>\n",
       "      <td>1</td>\n",
       "      <td>Finland</td>\n",
       "      <td>7.769</td>\n",
       "      <td>1.340</td>\n",
       "      <td>1.587</td>\n",
       "      <td>0.986</td>\n",
       "      <td>0.596</td>\n",
       "      <td>0.153</td>\n",
       "      <td>0.393</td>\n",
       "    </tr>\n",
       "    <tr>\n",
       "      <th>1</th>\n",
       "      <td>2</td>\n",
       "      <td>Denmark</td>\n",
       "      <td>7.600</td>\n",
       "      <td>1.383</td>\n",
       "      <td>1.573</td>\n",
       "      <td>0.996</td>\n",
       "      <td>0.592</td>\n",
       "      <td>0.252</td>\n",
       "      <td>0.410</td>\n",
       "    </tr>\n",
       "    <tr>\n",
       "      <th>2</th>\n",
       "      <td>3</td>\n",
       "      <td>Norway</td>\n",
       "      <td>7.554</td>\n",
       "      <td>1.488</td>\n",
       "      <td>1.582</td>\n",
       "      <td>1.028</td>\n",
       "      <td>0.603</td>\n",
       "      <td>0.271</td>\n",
       "      <td>0.341</td>\n",
       "    </tr>\n",
       "    <tr>\n",
       "      <th>3</th>\n",
       "      <td>4</td>\n",
       "      <td>Iceland</td>\n",
       "      <td>7.494</td>\n",
       "      <td>1.380</td>\n",
       "      <td>1.624</td>\n",
       "      <td>1.026</td>\n",
       "      <td>0.591</td>\n",
       "      <td>0.354</td>\n",
       "      <td>0.118</td>\n",
       "    </tr>\n",
       "    <tr>\n",
       "      <th>4</th>\n",
       "      <td>5</td>\n",
       "      <td>Netherlands</td>\n",
       "      <td>7.488</td>\n",
       "      <td>1.396</td>\n",
       "      <td>1.522</td>\n",
       "      <td>0.999</td>\n",
       "      <td>0.557</td>\n",
       "      <td>0.322</td>\n",
       "      <td>0.298</td>\n",
       "    </tr>\n",
       "    <tr>\n",
       "      <th>...</th>\n",
       "      <td>...</td>\n",
       "      <td>...</td>\n",
       "      <td>...</td>\n",
       "      <td>...</td>\n",
       "      <td>...</td>\n",
       "      <td>...</td>\n",
       "      <td>...</td>\n",
       "      <td>...</td>\n",
       "      <td>...</td>\n",
       "    </tr>\n",
       "    <tr>\n",
       "      <th>151</th>\n",
       "      <td>152</td>\n",
       "      <td>Rwanda</td>\n",
       "      <td>3.334</td>\n",
       "      <td>0.359</td>\n",
       "      <td>0.711</td>\n",
       "      <td>0.614</td>\n",
       "      <td>0.555</td>\n",
       "      <td>0.217</td>\n",
       "      <td>0.411</td>\n",
       "    </tr>\n",
       "    <tr>\n",
       "      <th>152</th>\n",
       "      <td>153</td>\n",
       "      <td>Tanzania</td>\n",
       "      <td>3.231</td>\n",
       "      <td>0.476</td>\n",
       "      <td>0.885</td>\n",
       "      <td>0.499</td>\n",
       "      <td>0.417</td>\n",
       "      <td>0.276</td>\n",
       "      <td>0.147</td>\n",
       "    </tr>\n",
       "    <tr>\n",
       "      <th>153</th>\n",
       "      <td>154</td>\n",
       "      <td>Afghanistan</td>\n",
       "      <td>3.203</td>\n",
       "      <td>0.350</td>\n",
       "      <td>0.517</td>\n",
       "      <td>0.361</td>\n",
       "      <td>0.000</td>\n",
       "      <td>0.158</td>\n",
       "      <td>0.025</td>\n",
       "    </tr>\n",
       "    <tr>\n",
       "      <th>154</th>\n",
       "      <td>155</td>\n",
       "      <td>Central African Republic</td>\n",
       "      <td>3.083</td>\n",
       "      <td>0.026</td>\n",
       "      <td>0.000</td>\n",
       "      <td>0.105</td>\n",
       "      <td>0.225</td>\n",
       "      <td>0.235</td>\n",
       "      <td>0.035</td>\n",
       "    </tr>\n",
       "    <tr>\n",
       "      <th>155</th>\n",
       "      <td>156</td>\n",
       "      <td>South Sudan</td>\n",
       "      <td>2.853</td>\n",
       "      <td>0.306</td>\n",
       "      <td>0.575</td>\n",
       "      <td>0.295</td>\n",
       "      <td>0.010</td>\n",
       "      <td>0.202</td>\n",
       "      <td>0.091</td>\n",
       "    </tr>\n",
       "  </tbody>\n",
       "</table>\n",
       "<p>156 rows × 9 columns</p>\n",
       "</div>"
      ],
      "text/plain": [
       "     Overall rank         Country or region  Score  GDP per capita  \\\n",
       "0               1                   Finland  7.769           1.340   \n",
       "1               2                   Denmark  7.600           1.383   \n",
       "2               3                    Norway  7.554           1.488   \n",
       "3               4                   Iceland  7.494           1.380   \n",
       "4               5               Netherlands  7.488           1.396   \n",
       "..            ...                       ...    ...             ...   \n",
       "151           152                    Rwanda  3.334           0.359   \n",
       "152           153                  Tanzania  3.231           0.476   \n",
       "153           154               Afghanistan  3.203           0.350   \n",
       "154           155  Central African Republic  3.083           0.026   \n",
       "155           156               South Sudan  2.853           0.306   \n",
       "\n",
       "     Social support  Healthy life expectancy  Freedom to make life choices  \\\n",
       "0             1.587                    0.986                         0.596   \n",
       "1             1.573                    0.996                         0.592   \n",
       "2             1.582                    1.028                         0.603   \n",
       "3             1.624                    1.026                         0.591   \n",
       "4             1.522                    0.999                         0.557   \n",
       "..              ...                      ...                           ...   \n",
       "151           0.711                    0.614                         0.555   \n",
       "152           0.885                    0.499                         0.417   \n",
       "153           0.517                    0.361                         0.000   \n",
       "154           0.000                    0.105                         0.225   \n",
       "155           0.575                    0.295                         0.010   \n",
       "\n",
       "     Generosity  Perceptions of corruption  \n",
       "0         0.153                      0.393  \n",
       "1         0.252                      0.410  \n",
       "2         0.271                      0.341  \n",
       "3         0.354                      0.118  \n",
       "4         0.322                      0.298  \n",
       "..          ...                        ...  \n",
       "151       0.217                      0.411  \n",
       "152       0.276                      0.147  \n",
       "153       0.158                      0.025  \n",
       "154       0.235                      0.035  \n",
       "155       0.202                      0.091  \n",
       "\n",
       "[156 rows x 9 columns]"
      ]
     },
     "execution_count": 4,
     "metadata": {},
     "output_type": "execute_result"
    }
   ],
   "source": [
    "happy_df = pd.read_csv('Happiness_survey_2019.csv')\n",
    "happy_df"
   ]
  },
  {
   "cell_type": "markdown",
   "id": "c11dde86-01f9-4d39-8908-363247ae3b70",
   "metadata": {},
   "source": [
    "We will now get the dataframe ready to convert into an array.  We will be analysing the data on a global scale and doing our own data analysis, so will hence  drop the `Overall rank` column.  What other column do you also need to drop in order for the array to be viable?  Do this below.\n",
    "\n",
    "Hint: look at datatypes"
   ]
  },
  {
   "cell_type": "code",
   "execution_count": 5,
   "id": "60f49f8b-f1e1-443f-b5b7-6c46b66e64df",
   "metadata": {},
   "outputs": [
    {
     "data": {
      "text/html": [
       "<div>\n",
       "<style scoped>\n",
       "    .dataframe tbody tr th:only-of-type {\n",
       "        vertical-align: middle;\n",
       "    }\n",
       "\n",
       "    .dataframe tbody tr th {\n",
       "        vertical-align: top;\n",
       "    }\n",
       "\n",
       "    .dataframe thead th {\n",
       "        text-align: right;\n",
       "    }\n",
       "</style>\n",
       "<table border=\"1\" class=\"dataframe\">\n",
       "  <thead>\n",
       "    <tr style=\"text-align: right;\">\n",
       "      <th></th>\n",
       "      <th>Score</th>\n",
       "      <th>GDP per capita</th>\n",
       "      <th>Social support</th>\n",
       "      <th>Healthy life expectancy</th>\n",
       "      <th>Freedom to make life choices</th>\n",
       "      <th>Generosity</th>\n",
       "      <th>Perceptions of corruption</th>\n",
       "    </tr>\n",
       "  </thead>\n",
       "  <tbody>\n",
       "    <tr>\n",
       "      <th>0</th>\n",
       "      <td>7.769</td>\n",
       "      <td>1.340</td>\n",
       "      <td>1.587</td>\n",
       "      <td>0.986</td>\n",
       "      <td>0.596</td>\n",
       "      <td>0.153</td>\n",
       "      <td>0.393</td>\n",
       "    </tr>\n",
       "    <tr>\n",
       "      <th>1</th>\n",
       "      <td>7.600</td>\n",
       "      <td>1.383</td>\n",
       "      <td>1.573</td>\n",
       "      <td>0.996</td>\n",
       "      <td>0.592</td>\n",
       "      <td>0.252</td>\n",
       "      <td>0.410</td>\n",
       "    </tr>\n",
       "    <tr>\n",
       "      <th>2</th>\n",
       "      <td>7.554</td>\n",
       "      <td>1.488</td>\n",
       "      <td>1.582</td>\n",
       "      <td>1.028</td>\n",
       "      <td>0.603</td>\n",
       "      <td>0.271</td>\n",
       "      <td>0.341</td>\n",
       "    </tr>\n",
       "    <tr>\n",
       "      <th>3</th>\n",
       "      <td>7.494</td>\n",
       "      <td>1.380</td>\n",
       "      <td>1.624</td>\n",
       "      <td>1.026</td>\n",
       "      <td>0.591</td>\n",
       "      <td>0.354</td>\n",
       "      <td>0.118</td>\n",
       "    </tr>\n",
       "    <tr>\n",
       "      <th>4</th>\n",
       "      <td>7.488</td>\n",
       "      <td>1.396</td>\n",
       "      <td>1.522</td>\n",
       "      <td>0.999</td>\n",
       "      <td>0.557</td>\n",
       "      <td>0.322</td>\n",
       "      <td>0.298</td>\n",
       "    </tr>\n",
       "    <tr>\n",
       "      <th>...</th>\n",
       "      <td>...</td>\n",
       "      <td>...</td>\n",
       "      <td>...</td>\n",
       "      <td>...</td>\n",
       "      <td>...</td>\n",
       "      <td>...</td>\n",
       "      <td>...</td>\n",
       "    </tr>\n",
       "    <tr>\n",
       "      <th>151</th>\n",
       "      <td>3.334</td>\n",
       "      <td>0.359</td>\n",
       "      <td>0.711</td>\n",
       "      <td>0.614</td>\n",
       "      <td>0.555</td>\n",
       "      <td>0.217</td>\n",
       "      <td>0.411</td>\n",
       "    </tr>\n",
       "    <tr>\n",
       "      <th>152</th>\n",
       "      <td>3.231</td>\n",
       "      <td>0.476</td>\n",
       "      <td>0.885</td>\n",
       "      <td>0.499</td>\n",
       "      <td>0.417</td>\n",
       "      <td>0.276</td>\n",
       "      <td>0.147</td>\n",
       "    </tr>\n",
       "    <tr>\n",
       "      <th>153</th>\n",
       "      <td>3.203</td>\n",
       "      <td>0.350</td>\n",
       "      <td>0.517</td>\n",
       "      <td>0.361</td>\n",
       "      <td>0.000</td>\n",
       "      <td>0.158</td>\n",
       "      <td>0.025</td>\n",
       "    </tr>\n",
       "    <tr>\n",
       "      <th>154</th>\n",
       "      <td>3.083</td>\n",
       "      <td>0.026</td>\n",
       "      <td>0.000</td>\n",
       "      <td>0.105</td>\n",
       "      <td>0.225</td>\n",
       "      <td>0.235</td>\n",
       "      <td>0.035</td>\n",
       "    </tr>\n",
       "    <tr>\n",
       "      <th>155</th>\n",
       "      <td>2.853</td>\n",
       "      <td>0.306</td>\n",
       "      <td>0.575</td>\n",
       "      <td>0.295</td>\n",
       "      <td>0.010</td>\n",
       "      <td>0.202</td>\n",
       "      <td>0.091</td>\n",
       "    </tr>\n",
       "  </tbody>\n",
       "</table>\n",
       "<p>156 rows × 7 columns</p>\n",
       "</div>"
      ],
      "text/plain": [
       "     Score  GDP per capita  Social support  Healthy life expectancy  \\\n",
       "0    7.769           1.340           1.587                    0.986   \n",
       "1    7.600           1.383           1.573                    0.996   \n",
       "2    7.554           1.488           1.582                    1.028   \n",
       "3    7.494           1.380           1.624                    1.026   \n",
       "4    7.488           1.396           1.522                    0.999   \n",
       "..     ...             ...             ...                      ...   \n",
       "151  3.334           0.359           0.711                    0.614   \n",
       "152  3.231           0.476           0.885                    0.499   \n",
       "153  3.203           0.350           0.517                    0.361   \n",
       "154  3.083           0.026           0.000                    0.105   \n",
       "155  2.853           0.306           0.575                    0.295   \n",
       "\n",
       "     Freedom to make life choices  Generosity  Perceptions of corruption  \n",
       "0                           0.596       0.153                      0.393  \n",
       "1                           0.592       0.252                      0.410  \n",
       "2                           0.603       0.271                      0.341  \n",
       "3                           0.591       0.354                      0.118  \n",
       "4                           0.557       0.322                      0.298  \n",
       "..                            ...         ...                        ...  \n",
       "151                         0.555       0.217                      0.411  \n",
       "152                         0.417       0.276                      0.147  \n",
       "153                         0.000       0.158                      0.025  \n",
       "154                         0.225       0.235                      0.035  \n",
       "155                         0.010       0.202                      0.091  \n",
       "\n",
       "[156 rows x 7 columns]"
      ]
     },
     "execution_count": 5,
     "metadata": {},
     "output_type": "execute_result"
    }
   ],
   "source": [
    "happy_df = happy_df.drop(['Overall rank', 'Country or region'], axis=1).copy()\n",
    "happy_df"
   ]
  },
  {
   "cell_type": "markdown",
   "id": "affc2fab-4ba5-4b01-bbed-4abd07e331ea",
   "metadata": {},
   "source": [
    "Now that the dataframe is ready, convert it into an array.  Name this array `happy`."
   ]
  },
  {
   "cell_type": "code",
   "execution_count": 6,
   "id": "fdd02edd-9444-4cd0-acf7-0b6272dc745b",
   "metadata": {},
   "outputs": [
    {
     "data": {
      "text/plain": [
       "array([[7.769, 1.34 , 1.587, ..., 0.596, 0.153, 0.393],\n",
       "       [7.6  , 1.383, 1.573, ..., 0.592, 0.252, 0.41 ],\n",
       "       [7.554, 1.488, 1.582, ..., 0.603, 0.271, 0.341],\n",
       "       ...,\n",
       "       [3.203, 0.35 , 0.517, ..., 0.   , 0.158, 0.025],\n",
       "       [3.083, 0.026, 0.   , ..., 0.225, 0.235, 0.035],\n",
       "       [2.853, 0.306, 0.575, ..., 0.01 , 0.202, 0.091]])"
      ]
     },
     "execution_count": 6,
     "metadata": {},
     "output_type": "execute_result"
    }
   ],
   "source": [
    "happy = happy_df.to_numpy()\n",
    "happy"
   ]
  },
  {
   "cell_type": "markdown",
   "id": "77f6419f-0c03-4d77-9a31-4a262e2b6dc3",
   "metadata": {},
   "source": [
    "When analysing data, it is important to get a general understanding of the distribution of the variables in question. Calculate the mean of each variable."
   ]
  },
  {
   "cell_type": "code",
   "execution_count": 7,
   "id": "ae4ca4b2-d0a7-4c36-a1ec-c0b4d13acac1",
   "metadata": {},
   "outputs": [
    {
     "data": {
      "text/plain": [
       "array([5.40709615, 0.90514744, 1.2088141 , 0.72524359, 0.39257051,\n",
       "       0.18484615, 0.11060256])"
      ]
     },
     "execution_count": 7,
     "metadata": {},
     "output_type": "execute_result"
    }
   ],
   "source": [
    "np.mean(happy, axis = 0)"
   ]
  },
  {
   "cell_type": "markdown",
   "id": "54e838fa-458c-4393-86e4-ccbbf2e03291",
   "metadata": {},
   "source": [
    "The data was already ordered from the highest to lowest happiness score, the former being 7.769, the latter being 2.853.  Therefore, a mean happiness score of 5.407 seems to indicate the data is upwardly skewed.  \n",
    "\n",
    "A reason for this may be the divide between developping and developped nations.  In order to investigate this further, we will use a second data set called `Country_income_category.csv`.  Upload this and call it `income_df`."
   ]
  },
  {
   "cell_type": "code",
   "execution_count": 9,
   "id": "ccabbebd-6fa5-446b-91eb-d336c96d1301",
   "metadata": {},
   "outputs": [
    {
     "data": {
      "text/html": [
       "<div>\n",
       "<style scoped>\n",
       "    .dataframe tbody tr th:only-of-type {\n",
       "        vertical-align: middle;\n",
       "    }\n",
       "\n",
       "    .dataframe tbody tr th {\n",
       "        vertical-align: top;\n",
       "    }\n",
       "\n",
       "    .dataframe thead th {\n",
       "        text-align: right;\n",
       "    }\n",
       "</style>\n",
       "<table border=\"1\" class=\"dataframe\">\n",
       "  <thead>\n",
       "    <tr style=\"text-align: right;\">\n",
       "      <th></th>\n",
       "      <th>Country or region</th>\n",
       "      <th>IncomeGroup</th>\n",
       "    </tr>\n",
       "  </thead>\n",
       "  <tbody>\n",
       "    <tr>\n",
       "      <th>0</th>\n",
       "      <td>Finland</td>\n",
       "      <td>3</td>\n",
       "    </tr>\n",
       "    <tr>\n",
       "      <th>1</th>\n",
       "      <td>Denmark</td>\n",
       "      <td>3</td>\n",
       "    </tr>\n",
       "    <tr>\n",
       "      <th>2</th>\n",
       "      <td>Norway</td>\n",
       "      <td>3</td>\n",
       "    </tr>\n",
       "    <tr>\n",
       "      <th>3</th>\n",
       "      <td>Iceland</td>\n",
       "      <td>3</td>\n",
       "    </tr>\n",
       "    <tr>\n",
       "      <th>4</th>\n",
       "      <td>Netherlands</td>\n",
       "      <td>3</td>\n",
       "    </tr>\n",
       "    <tr>\n",
       "      <th>...</th>\n",
       "      <td>...</td>\n",
       "      <td>...</td>\n",
       "    </tr>\n",
       "    <tr>\n",
       "      <th>151</th>\n",
       "      <td>Rwanda</td>\n",
       "      <td>0</td>\n",
       "    </tr>\n",
       "    <tr>\n",
       "      <th>152</th>\n",
       "      <td>Tanzania</td>\n",
       "      <td>1</td>\n",
       "    </tr>\n",
       "    <tr>\n",
       "      <th>153</th>\n",
       "      <td>Afghanistan</td>\n",
       "      <td>0</td>\n",
       "    </tr>\n",
       "    <tr>\n",
       "      <th>154</th>\n",
       "      <td>Central African Republic</td>\n",
       "      <td>0</td>\n",
       "    </tr>\n",
       "    <tr>\n",
       "      <th>155</th>\n",
       "      <td>South Sudan</td>\n",
       "      <td>0</td>\n",
       "    </tr>\n",
       "  </tbody>\n",
       "</table>\n",
       "<p>156 rows × 2 columns</p>\n",
       "</div>"
      ],
      "text/plain": [
       "            Country or region  IncomeGroup\n",
       "0                     Finland            3\n",
       "1                     Denmark            3\n",
       "2                      Norway            3\n",
       "3                     Iceland            3\n",
       "4                 Netherlands            3\n",
       "..                        ...          ...\n",
       "151                    Rwanda            0\n",
       "152                  Tanzania            1\n",
       "153               Afghanistan            0\n",
       "154  Central African Republic            0\n",
       "155               South Sudan            0\n",
       "\n",
       "[156 rows x 2 columns]"
      ]
     },
     "execution_count": 9,
     "metadata": {},
     "output_type": "execute_result"
    }
   ],
   "source": [
    "income_df = pd.read_csv('Country_income_category.csv')\n",
    "income_df"
   ]
  },
  {
   "cell_type": "markdown",
   "id": "cb6c8e7e-8527-4fa1-aa57-95ac8af4f666",
   "metadata": {},
   "source": [
    "The countries in this data set have already been ordered to match the countries of the happiness survey.  The key is the following:\n",
    "\n",
    "* High income country = 3\n",
    "* Upper middle income country = 2\n",
    "* Lower middle income country = 1\n",
    "* Low income country = 0\n",
    "\n",
    "First, do the necessary action to convert this data set into an array called `income` (don't forget about data types). "
   ]
  },
  {
   "cell_type": "code",
   "execution_count": 10,
   "id": "0026da73-a984-4d97-9611-71aee12559ed",
   "metadata": {},
   "outputs": [],
   "source": [
    "income_df = income_df[[\"IncomeGroup\"]] #drop \"country or region\"\n",
    "income = income_df.to_numpy()"
   ]
  },
  {
   "cell_type": "markdown",
   "id": "c44c79d4-5ca7-416c-9207-a81deddacbd2",
   "metadata": {},
   "source": [
    "Now, combine the `income` array relating to country income categories with the array `happy`.  Name this new array `data`.\n",
    "\n",
    "Hint: You cannot use a traditional concatenate method as the arrays have different dimensions.  Look at the documentation for `hstack` or `column_stack` below.\n",
    "\n",
    "* hstack = https://numpy.org/doc/stable/reference/generated/numpy.hstack.html\n",
    "* column stack = https://numpy.org/doc/stable/reference/generated/numpy.column_stack.html#numpy.column_stack"
   ]
  },
  {
   "cell_type": "code",
   "execution_count": 69,
   "id": "3affc2cc-3cb3-496d-89e4-85eed57e6fe7",
   "metadata": {},
   "outputs": [
    {
     "data": {
      "text/plain": [
       "array([[7.769, 1.34 , 1.587, ..., 0.153, 0.393, 3.   ],\n",
       "       [7.6  , 1.383, 1.573, ..., 0.252, 0.41 , 3.   ],\n",
       "       [7.554, 1.488, 1.582, ..., 0.271, 0.341, 3.   ],\n",
       "       ...,\n",
       "       [3.203, 0.35 , 0.517, ..., 0.158, 0.025, 0.   ],\n",
       "       [3.083, 0.026, 0.   , ..., 0.235, 0.035, 0.   ],\n",
       "       [2.853, 0.306, 0.575, ..., 0.202, 0.091, 0.   ]])"
      ]
     },
     "execution_count": 69,
     "metadata": {},
     "output_type": "execute_result"
    }
   ],
   "source": [
    "#method 1\n",
    "data = np.hstack((happy, income))\n",
    "#method 2\n",
    "data = np.column_stack((happy, income))\n",
    "data"
   ]
  },
  {
   "cell_type": "markdown",
   "id": "94c24754-c602-46b4-9667-a08285b1f351",
   "metadata": {},
   "source": [
    "Now, we will split the large data matrix we have into 4 subset matrices so that each one is grouped by the country income category. \n",
    "\n",
    "To do this, we will use the `np.split` function.  This requires distinct indices at which to split the array.  In order to do so, we will sort the `data` array by the income categorisation column so that it is in ascending order.  Then, we will identify which indices said income categorisation column changes values (from 0 to 1, 1 to 2 etc).  Using this info, we will split the array into 4 sub-matrices.  We will do this step by step below based on the following example = https://stackoverflow.com/questions/31863083/python-split-numpy-array-based-on-values-in-the-array\n",
    "\n",
    "First, we are going to use `argsort` to sort the `data` array by the income categories (0 = low income, 1 = lower mid etc).  Sorting the income category column in acending order will mean that all the countries will be grouped by their associated categorical values (zeroes together, then ones, twos, and finally threes).  Name this array `data_sorted`, and refer to the following example for guidance = https://www.kite.com/python/answers/how-to-sort-the-rows-of-a-numpy-array-by-a-column-in-python\n",
    "\n",
    "Hint: the income category info is in the last column of the array."
   ]
  },
  {
   "cell_type": "code",
   "execution_count": 12,
   "id": "8dde057e-a65c-4783-bd2e-30cbce909a80",
   "metadata": {},
   "outputs": [
    {
     "data": {
      "text/plain": [
       "array([[2.853, 0.306, 0.575, ..., 0.202, 0.091, 0.   ],\n",
       "       [4.628, 0.138, 0.774, ..., 0.188, 0.102, 0.   ],\n",
       "       [4.587, 0.331, 1.056, ..., 0.177, 0.113, 0.   ],\n",
       "       ...,\n",
       "       [6.374, 1.684, 1.313, ..., 0.22 , 0.167, 3.   ],\n",
       "       [6.444, 1.159, 1.369, ..., 0.187, 0.056, 3.   ],\n",
       "       [7.769, 1.34 , 1.587, ..., 0.153, 0.393, 3.   ]])"
      ]
     },
     "execution_count": 12,
     "metadata": {},
     "output_type": "execute_result"
    }
   ],
   "source": [
    "data_sorted = data[np.argsort(data[:, -1])]\n",
    "data_sorted"
   ]
  },
  {
   "cell_type": "markdown",
   "id": "c36229ba-a85a-4c44-87c6-fc0804066975",
   "metadata": {},
   "source": [
    "Now, using `np.diff(arr[index])` we will identify the indices at which the `data_sorted` array changes income category."
   ]
  },
  {
   "cell_type": "code",
   "execution_count": 89,
   "id": "d9b11fd7-c90f-4a1e-9e50-7598344e90ff",
   "metadata": {},
   "outputs": [
    {
     "data": {
      "text/plain": [
       "array([0., 0., 0., 0., 0., 0., 0., 0., 0., 0., 0., 0., 0., 0., 0., 0., 0.,\n",
       "       0., 0., 0., 0., 0., 1., 0., 0., 0., 0., 0., 0., 0., 0., 0., 0., 0.,\n",
       "       0., 0., 0., 0., 0., 0., 0., 0., 0., 0., 0., 0., 0., 0., 0., 0., 0.,\n",
       "       0., 0., 0., 0., 0., 0., 0., 0., 0., 0., 0., 0., 0., 0., 0., 1., 0.,\n",
       "       0., 0., 0., 0., 0., 0., 0., 0., 0., 0., 0., 0., 0., 0., 0., 0., 0.,\n",
       "       0., 0., 0., 0., 0., 0., 0., 0., 0., 0., 0., 0., 0., 0., 0., 0., 0.,\n",
       "       0., 0., 0., 0., 0., 0., 0., 1., 0., 0., 0., 0., 0., 0., 0., 0., 0.,\n",
       "       0., 0., 0., 0., 0., 0., 0., 0., 0., 0., 0., 0., 0., 0., 0., 0., 0.,\n",
       "       0., 0., 0., 0., 0., 0., 0., 0., 0., 0., 0., 0., 0., 0., 0., 0., 0.,\n",
       "       0., 0.])"
      ]
     },
     "execution_count": 89,
     "metadata": {},
     "output_type": "execute_result"
    }
   ],
   "source": [
    "np.diff(data_sorted[:,-1])"
   ]
  },
  {
   "cell_type": "markdown",
   "id": "cc99cef5-365d-4f5d-8195-1aae151dd6b3",
   "metadata": {},
   "source": [
    "The array above has a \"1\" wherever the country income category changes value in the sorted array.  This therefore indicates a change from 0 to 1, or 1 to 2 etc.  \n",
    "\n",
    "Using `np.where(index)[0]+1`, we will now identify the indices for the points at which the value changes, so that we can know where to split our array. The `[0]+1` adds 1 to it because as per how indexing works, the actual index of an item is one more than the returned index."
   ]
  },
  {
   "cell_type": "code",
   "execution_count": 14,
   "id": "be1b0d2a-8dd5-4427-b402-61698b4445f6",
   "metadata": {},
   "outputs": [
    {
     "data": {
      "text/plain": [
       "array([ 23,  67, 110])"
      ]
     },
     "execution_count": 14,
     "metadata": {},
     "output_type": "execute_result"
    }
   ],
   "source": [
    "np.where(np.diff(data_sorted[:,-1]))[0]+1"
   ]
  },
  {
   "cell_type": "markdown",
   "id": "c5566237-ba64-4e85-8e48-be3907ae881b",
   "metadata": {},
   "source": [
    "We now have all the elements we need to split our array into 4 sub-matrices using `np.array_split(arr, index)`.\n",
    "\n",
    "Do so below, once again reffering to the example.  Call this new matrix `data_split`."
   ]
  },
  {
   "cell_type": "code",
   "execution_count": 86,
   "id": "b29ef105-1d80-404c-a222-999b4d949b03",
   "metadata": {},
   "outputs": [],
   "source": [
    "data_split = np.array_split(data_sorted, np.where(np.diff(data_sorted[:,-1]))[0]+1)"
   ]
  },
  {
   "cell_type": "markdown",
   "id": "e75bcbe9-f646-4505-b8b3-911c32fc0510",
   "metadata": {},
   "source": [
    "Now that we have our 4 distinct matrices, we can find the mean values per country income category.  Do so using a for loop."
   ]
  },
  {
   "cell_type": "code",
   "execution_count": 87,
   "id": "b297b034-d97d-4baf-bf0e-cfd79ac12ba0",
   "metadata": {},
   "outputs": [
    {
     "name": "stdout",
     "output_type": "stream",
     "text": [
      "[3.9956087  0.25791304 0.78182609 0.38443478 0.28430435 0.20786957\n",
      " 0.10747826 0.        ]\n",
      "[4.81956818 0.67922727 1.09313636 0.59631818 0.37677273 0.20915909\n",
      " 0.08904545 1.        ]\n",
      "[5.50532558 1.02253488 1.29832558 0.78818605 0.39469767 0.13790698\n",
      " 0.07127907 2.        ]\n",
      "[6.583      1.33513043 1.44928261 0.96013043 0.45982609 0.19395652\n",
      " 0.16954348 3.        ]\n"
     ]
    }
   ],
   "source": [
    "for x in data_split:\n",
    "    print(np.mean(x, axis=0))"
   ]
  },
  {
   "cell_type": "markdown",
   "id": "d186e680-9c7c-4a8c-b685-39c48ad96209",
   "metadata": {},
   "source": [
    "As can be seen, there is a distinct difference between the means in each income category group.  Interestingly, the overall mean of 5.40709615 found earlier is similar to that of upper-middle income countries.  This reinforces the fact that there is a marked difference between the level of development a country has attained/their income category and their associated level of happiness."
   ]
  },
  {
   "cell_type": "markdown",
   "id": "d700a344-aa28-4421-8844-9116f6dd966e",
   "metadata": {},
   "source": [
    "## Section 2 : Population growth model"
   ]
  },
  {
   "cell_type": "markdown",
   "id": "78bb8ac2-b3f5-47d3-81c8-52d5d86eefa1",
   "metadata": {},
   "source": [
    "In this second section, we will look at India's population data and attempt to predict the population in 1991-2020 based on 1960-1990 data.  We will then compare our predictions to the real 1991-2020 data we have from our data set as a comparison.  I know maths x humanities is not the best combo, so don't worry, this will be really broken down and easy to follow.  We will use use two different methods of extrapolation:\n",
    "\n",
    "* A standard population growth equation \n",
    "* Using NumPy to identify the pattern in number increase and continue it \n",
    "\n",
    " First, load the `India_population.csv` data set and call it `pop_df`."
   ]
  },
  {
   "cell_type": "code",
   "execution_count": 13,
   "id": "b4487154-6f4d-4f3c-99c5-13c1b42d6d84",
   "metadata": {},
   "outputs": [
    {
     "data": {
      "text/html": [
       "<div>\n",
       "<style scoped>\n",
       "    .dataframe tbody tr th:only-of-type {\n",
       "        vertical-align: middle;\n",
       "    }\n",
       "\n",
       "    .dataframe tbody tr th {\n",
       "        vertical-align: top;\n",
       "    }\n",
       "\n",
       "    .dataframe thead th {\n",
       "        text-align: right;\n",
       "    }\n",
       "</style>\n",
       "<table border=\"1\" class=\"dataframe\">\n",
       "  <thead>\n",
       "    <tr style=\"text-align: right;\">\n",
       "      <th></th>\n",
       "      <th>2020 [YR2020]</th>\n",
       "      <th>2019 [YR2019]</th>\n",
       "      <th>2018 [YR2018]</th>\n",
       "      <th>2017 [YR2017]</th>\n",
       "      <th>2016 [YR2016]</th>\n",
       "      <th>2015 [YR2015]</th>\n",
       "      <th>2014 [YR2014]</th>\n",
       "      <th>2013 [YR2013]</th>\n",
       "      <th>2012 [YR2012]</th>\n",
       "      <th>2011 [YR2011]</th>\n",
       "      <th>...</th>\n",
       "      <th>1969 [YR1969]</th>\n",
       "      <th>1968 [YR1968]</th>\n",
       "      <th>1967 [YR1967]</th>\n",
       "      <th>1966 [YR1966]</th>\n",
       "      <th>1965 [YR1965]</th>\n",
       "      <th>1964 [YR1964]</th>\n",
       "      <th>1963 [YR1963]</th>\n",
       "      <th>1962 [YR1962]</th>\n",
       "      <th>1961 [YR1961]</th>\n",
       "      <th>1960 [YR1960]</th>\n",
       "    </tr>\n",
       "  </thead>\n",
       "  <tbody>\n",
       "    <tr>\n",
       "      <th>0</th>\n",
       "      <td>1.380004e+09</td>\n",
       "      <td>1.366418e+09</td>\n",
       "      <td>1.352642e+09</td>\n",
       "      <td>1.338677e+09</td>\n",
       "      <td>1.324517e+09</td>\n",
       "      <td>1.310152e+09</td>\n",
       "      <td>1.295601e+09</td>\n",
       "      <td>1.280842e+09</td>\n",
       "      <td>1.265780e+09</td>\n",
       "      <td>1.250288e+09</td>\n",
       "      <td>...</td>\n",
       "      <td>543084333.0</td>\n",
       "      <td>531513834.0</td>\n",
       "      <td>520400577.0</td>\n",
       "      <td>509631509.0</td>\n",
       "      <td>499123328.0</td>\n",
       "      <td>488848139.0</td>\n",
       "      <td>478825602.0</td>\n",
       "      <td>469077191.0</td>\n",
       "      <td>459642166.0</td>\n",
       "      <td>450547675.0</td>\n",
       "    </tr>\n",
       "  </tbody>\n",
       "</table>\n",
       "<p>1 rows × 61 columns</p>\n",
       "</div>"
      ],
      "text/plain": [
       "   2020 [YR2020]  2019 [YR2019]  2018 [YR2018]  2017 [YR2017]  2016 [YR2016]  \\\n",
       "0   1.380004e+09   1.366418e+09   1.352642e+09   1.338677e+09   1.324517e+09   \n",
       "\n",
       "   2015 [YR2015]  2014 [YR2014]  2013 [YR2013]  2012 [YR2012]  2011 [YR2011]  \\\n",
       "0   1.310152e+09   1.295601e+09   1.280842e+09   1.265780e+09   1.250288e+09   \n",
       "\n",
       "   ...  1969 [YR1969]  1968 [YR1968]  1967 [YR1967]  1966 [YR1966]  \\\n",
       "0  ...    543084333.0    531513834.0    520400577.0    509631509.0   \n",
       "\n",
       "   1965 [YR1965]  1964 [YR1964]  1963 [YR1963]  1962 [YR1962]  1961 [YR1961]  \\\n",
       "0    499123328.0    488848139.0    478825602.0    469077191.0    459642166.0   \n",
       "\n",
       "   1960 [YR1960]  \n",
       "0    450547675.0  \n",
       "\n",
       "[1 rows x 61 columns]"
      ]
     },
     "execution_count": 13,
     "metadata": {},
     "output_type": "execute_result"
    }
   ],
   "source": [
    "pop_df = pd.read_csv('India_population.csv')\n",
    "pop_df"
   ]
  },
  {
   "cell_type": "markdown",
   "id": "c7d20922-bce3-4220-86e4-edbd7796440d",
   "metadata": {},
   "source": [
    "Notice that the datapoints in the dataset at reversed - as in the first column is 2020 and the last column in 1960 opposed to being in ascending order.  Transform `pop_df` into an array called `pop_all` and reverse it so that the years are in increasing order using `np.flip(arr)`."
   ]
  },
  {
   "cell_type": "code",
   "execution_count": 14,
   "id": "2e41fc22-2468-4d7b-891a-defa6da41c96",
   "metadata": {},
   "outputs": [
    {
     "data": {
      "text/plain": [
       "array([[4.50547675e+08, 4.59642166e+08, 4.69077191e+08, 4.78825602e+08,\n",
       "        4.88848139e+08, 4.99123328e+08, 5.09631509e+08, 5.20400577e+08,\n",
       "        5.31513834e+08, 5.43084333e+08, 5.55189797e+08, 5.67868021e+08,\n",
       "        5.81087255e+08, 5.94770136e+08, 6.08802595e+08, 6.23102900e+08,\n",
       "        6.37630085e+08, 6.52408766e+08, 6.67499815e+08, 6.82995348e+08,\n",
       "        6.98952837e+08, 7.15384997e+08, 7.32239498e+08, 7.49428958e+08,\n",
       "        7.66833411e+08, 7.84360012e+08, 8.01975250e+08, 8.19682095e+08,\n",
       "        8.37468938e+08, 8.55334675e+08, 8.73277799e+08, 8.91273202e+08,\n",
       "        9.09307018e+08, 9.27403866e+08, 9.45601828e+08, 9.63922586e+08,\n",
       "        9.82365248e+08, 1.00090003e+09, 1.01948359e+09, 1.03805815e+09,\n",
       "        1.05657555e+09, 1.07500009e+09, 1.09331719e+09, 1.11152315e+09,\n",
       "        1.12962347e+09, 1.14760992e+09, 1.16548629e+09, 1.18320947e+09,\n",
       "        1.20066976e+09, 1.21772622e+09, 1.23428116e+09, 1.25028794e+09,\n",
       "        1.26578024e+09, 1.28084212e+09, 1.29560077e+09, 1.31015239e+09,\n",
       "        1.32451725e+09, 1.33867678e+09, 1.35264228e+09, 1.36641776e+09,\n",
       "        1.38000438e+09]])"
      ]
     },
     "execution_count": 14,
     "metadata": {},
     "output_type": "execute_result"
    }
   ],
   "source": [
    "pop_all = pop_df.to_numpy()\n",
    "pop_all = np.flip(pop_all)\n",
    "pop_all"
   ]
  },
  {
   "cell_type": "markdown",
   "id": "7234671f-0deb-4997-9e0e-b9d4461b1639",
   "metadata": {},
   "source": [
    "### Method 1: Population growth equation"
   ]
  },
  {
   "cell_type": "markdown",
   "id": "a7be10f2-5e44-4f4d-85c4-e3801fb6ba00",
   "metadata": {},
   "source": [
    "The equation for population growth is the following: \n",
    "\n",
    "$$\n",
    "P = P_0e^{λ(t_1-t_0)}\n",
    "$$\n",
    "\n",
    "The main thing to understand is that P is the population number, T refers to the year, and that λ is the growth rate - which dicates how fast the population is growing.  It is an unknown that we need to figure out from our data set.  The equation above can be rearanged into the following which will allow us to calculate λ.\n",
    "$$\n",
    "λ = \\frac{log(\\frac{P_1}{P_0})}{t_1-t_0}\n",
    "$$\n"
   ]
  },
  {
   "cell_type": "markdown",
   "id": "4b3bd66f-0ac5-4ae3-b972-2f6d8c8c1eb2",
   "metadata": {},
   "source": [
    "Create a variable called `rate` which reflects the equation above.  As we are going to be extrapolating based on values from 1960 to 1990, these will be the values we refer to for `P` and `T`.  Accordingly, let the values that refer to subscript 0 be 1960 and those with subscript 1 refer to 1990.  Use `np.log` to conduct the log in the numerator.\n",
    "\n",
    "Hint: the index for the population in 1960 will be 0, and that for 1990 will be 31"
   ]
  },
  {
   "cell_type": "code",
   "execution_count": 27,
   "id": "c6c7ce7b-cfbd-4694-b877-5048daf45996",
   "metadata": {},
   "outputs": [
    {
     "data": {
      "text/plain": [
       "0.022739570206035287"
      ]
     },
     "execution_count": 27,
     "metadata": {},
     "output_type": "execute_result"
    }
   ],
   "source": [
    "rate = (np.log(pop_all[0,31]/pop_all[0,0]))/(1990-1960)\n",
    "rate"
   ]
  },
  {
   "cell_type": "markdown",
   "id": "13a8ba1a-7d26-4072-a7d7-86a4c2217578",
   "metadata": {},
   "source": [
    "Having calculated the growth rate, we can now put together the complete equation for population growth, which we will call `pop_equation`, do extrapolate for the years 1991-2020.  Therefore, $P_0$ will be 1990, as this is the last point of the data set.\n",
    "\n",
    "Use `np.exp` for the exponential aspect of the equation, and opposed to finding the difference between the $t_1 $ and $ t_0$ every time, multiply the `rate` variable by `n`.  \n",
    "\n",
    "Insert this equation into the allocated place in the for loop below, which will allow the `n` variable to cycle through numbers 1-30, allowing to extrapolate 30 years of population values - 1991 to 2020!  The number range 1-30 reflects the difference [ex] 1991-1990 = 1 ; 1992-1990 = 2 ... 2020-1990 = 30.  These values will be appended to the array `pop_predict_1` - containing our first method of extrapolation.\n"
   ]
  },
  {
   "cell_type": "code",
   "execution_count": 33,
   "id": "3c0d227b-e6cb-4a1c-8ea3-ebb1d1257d97",
   "metadata": {},
   "outputs": [
    {
     "data": {
      "text/plain": [
       "[891273202.0,\n",
       " 911772561.5387955,\n",
       " 932743408.0925239,\n",
       " 954196585.9026766,\n",
       " 976143188.6292222,\n",
       " 998594565.087253,\n",
       " 1021562325.1155757,\n",
       " 1045058345.5802772,\n",
       " 1069094776.5163763,\n",
       " 1093684047.4107313,\n",
       " 1118838873.6294575,\n",
       " 1144572262.993173,\n",
       " 1170897522.503477,\n",
       " 1197828265.2241404,\n",
       " 1225378417.320558,\n",
       " 1253562225.2611163,\n",
       " 1282394263.1841865,\n",
       " 1311889440.4345636,\n",
       " 1342063009.273243,\n",
       " 1372930572.7645216,\n",
       " 1404508092.844503,\n",
       " 1436811898.575181,\n",
       " 1469858694.5883658,\n",
       " 1503665569.7238212,\n",
       " 1538250005.8660808,\n",
       " 1573629886.9845116,\n",
       " 1609823508.3812978,\n",
       " 1646849586.152133,\n",
       " 1684727266.8645048,\n",
       " 1723476137.458583]"
      ]
     },
     "execution_count": 33,
     "metadata": {},
     "output_type": "execute_result"
    }
   ],
   "source": [
    "pop_predict_1 = []\n",
    "for n in range(30):\n",
    "    pop_equation = pop_all[0,31]*np.exp(rate*n)\n",
    "    pop_predict_1.append(pop_equation)\n",
    "pop_predict_1"
   ]
  },
  {
   "cell_type": "markdown",
   "id": "fda0506c-88a3-4e1e-bb24-967b0ebc8e98",
   "metadata": {},
   "source": [
    "### Method 2: NumPy extrapolation"
   ]
  },
  {
   "cell_type": "markdown",
   "id": "0b70825b-5ffa-43fc-8e28-596f3c43309a",
   "metadata": {},
   "source": [
    "For the second approach, we will refer to the following method to extrapolate data by letting python identify the pattern in the values and continuing it: https://stackoverflow.com/questions/19406049/extrapolating-data-with-numpy-python/19432618.\n",
    "\n",
    "Essentially, using  the data from 1960 to 1990, python will extrapolate the years 1991-2020 based on the tendency of increase between the numbers. "
   ]
  },
  {
   "cell_type": "markdown",
   "id": "aa601c79-bbff-4372-8eb0-bab7299f75cc",
   "metadata": {},
   "source": [
    "First, create an array called `pop_1990` that has data from 1960 to 1990.  To do this, you will have to use `np.delete(arr,obj)`.  \n",
    "\n",
    "`obj` indicates the indexes of the part of the array we want to delete.  In our case we will use the function `slice(start,end,intervals)` in order to specify that we want the data from 1990 onwards (not including 1990) to be deleted.\n",
    "\n",
    "Hint: the index for the 1990 will be (0,31)"
   ]
  },
  {
   "cell_type": "code",
   "execution_count": 17,
   "id": "c3526b5a-af6e-47e2-bb36-cd3407812503",
   "metadata": {},
   "outputs": [
    {
     "data": {
      "text/plain": [
       "array([4.50547675e+08, 4.59642166e+08, 4.69077191e+08, 4.78825602e+08,\n",
       "       4.88848139e+08, 4.99123328e+08, 5.09631509e+08, 5.20400577e+08,\n",
       "       5.31513834e+08, 5.43084333e+08, 5.55189797e+08, 5.67868021e+08,\n",
       "       5.81087255e+08, 5.94770136e+08, 6.08802595e+08, 6.23102900e+08,\n",
       "       6.37630085e+08, 6.52408766e+08, 6.67499815e+08, 6.82995348e+08,\n",
       "       6.98952837e+08, 7.15384997e+08, 7.32239498e+08, 7.49428958e+08,\n",
       "       7.66833411e+08, 7.84360012e+08, 8.01975250e+08, 8.19682095e+08,\n",
       "       8.37468938e+08, 8.55334675e+08, 8.73277799e+08])"
      ]
     },
     "execution_count": 17,
     "metadata": {},
     "output_type": "execute_result"
    }
   ],
   "source": [
    "pop_1990 = np.delete(pop_all, slice(31,61,1)).copy()\n",
    "pop_1990"
   ]
  },
  {
   "cell_type": "markdown",
   "id": "132de676-e953-4831-9d11-cba01ee0fc66",
   "metadata": {},
   "source": [
    "Now create an array called `years` containing the numbers 1960-1990.  Use the function `np.arange(start, stop, interval)`to do this.  Double check that the array runs to 1990 inclusive!"
   ]
  },
  {
   "cell_type": "code",
   "execution_count": 18,
   "id": "772b8fb7-5491-49ef-a337-6073462c96e8",
   "metadata": {},
   "outputs": [
    {
     "data": {
      "text/plain": [
       "array([1960, 1961, 1962, 1963, 1964, 1965, 1966, 1967, 1968, 1969, 1970,\n",
       "       1971, 1972, 1973, 1974, 1975, 1976, 1977, 1978, 1979, 1980, 1981,\n",
       "       1982, 1983, 1984, 1985, 1986, 1987, 1988, 1989, 1990])"
      ]
     },
     "execution_count": 18,
     "metadata": {},
     "output_type": "execute_result"
    }
   ],
   "source": [
    "years = np.arange(1960,1991,1)\n",
    "years"
   ]
  },
  {
   "cell_type": "markdown",
   "id": "0713004b-0869-4eb6-bae8-cb22000d131f",
   "metadata": {},
   "source": [
    "We will now create a polynomial fit based on our data from 1960 to 1990 to understand the growth trend in the population.  Create the variable `fit` using the function `np.polyfit(x, y, degree)`.  Population data usually follows an exponential growth model, so use degree 2, and for the x and y variables input the relevant arrays created above."
   ]
  },
  {
   "cell_type": "code",
   "execution_count": 19,
   "id": "f2918a86-f678-4e91-9454-b5e2e0b0ab84",
   "metadata": {},
   "outputs": [
    {
     "data": {
      "text/plain": [
       "array([ 1.77583217e+05, -6.87249926e+08,  6.65256184e+11])"
      ]
     },
     "execution_count": 19,
     "metadata": {},
     "output_type": "execute_result"
    }
   ],
   "source": [
    "fit = np.polyfit(years, pop_1990, 2)\n",
    "fit"
   ]
  },
  {
   "cell_type": "markdown",
   "id": "8c6c7c4e-b3c5-43a2-ba92-e30481682d71",
   "metadata": {},
   "source": [
    "Next, we will prepare to apply the function to find population predictions for the years 1991 to 2020.  Run the code below to create the variable `line`.  `np.poly1d` allows us to turn the `fit` into a function that returns the value of the polynomial at any given x value - thereby allowing for extrapolation. "
   ]
  },
  {
   "cell_type": "code",
   "execution_count": 20,
   "id": "cac33090-075a-4b68-b3af-f59c62891e1d",
   "metadata": {},
   "outputs": [],
   "source": [
    "line = np.poly1d(fit)"
   ]
  },
  {
   "cell_type": "markdown",
   "id": "c3c1dc51-d00f-4f88-beff-5c2d11c4214e",
   "metadata": {},
   "source": [
    "Now, create an array titled `new_years` that contains the values 1991 to 2020.  Use the same `np.arange` function detailed previously.  Once again, make sure it includes the year 2020!"
   ]
  },
  {
   "cell_type": "code",
   "execution_count": 21,
   "id": "7527b843-7877-4427-8e16-0c8ae7527222",
   "metadata": {},
   "outputs": [
    {
     "data": {
      "text/plain": [
       "array([1991, 1992, 1993, 1994, 1995, 1996, 1997, 1998, 1999, 2000, 2001,\n",
       "       2002, 2003, 2004, 2005, 2006, 2007, 2008, 2009, 2010, 2011, 2012,\n",
       "       2013, 2014, 2015, 2016, 2017, 2018, 2019, 2020])"
      ]
     },
     "execution_count": 21,
     "metadata": {},
     "output_type": "execute_result"
    }
   ],
   "source": [
    "new_years = np.arange(1991,2021,1)\n",
    "new_years"
   ]
  },
  {
   "cell_type": "markdown",
   "id": "b974dc6e-f409-49c9-969b-b6a6f827d072",
   "metadata": {},
   "source": [
    "Finally, we can apply our polynomial to find our extrapolated population values.  Name this array `pop_predict_2`, applying the `line` function to the `new_years` variable."
   ]
  },
  {
   "cell_type": "code",
   "execution_count": 22,
   "id": "f6a5eae3-c94b-42c1-81b4-1e31ee1752ff",
   "metadata": {},
   "outputs": [],
   "source": [
    "pop_predict_2 = line(new_years)"
   ]
  },
  {
   "cell_type": "markdown",
   "id": "d856709d-839f-49b7-8aef-8117d23a795a",
   "metadata": {},
   "source": [
    "### Graphing the Results"
   ]
  },
  {
   "cell_type": "markdown",
   "id": "7b0d14b2-5606-4158-a0b1-8e36538204a8",
   "metadata": {},
   "source": [
    "Now that we have our 2 population extrapolation methods completed, we shall plot them along side the actual 1991-2020 data and observe how good a extrapolation it is.  Create an array with this 1991-2020 data called `pop_2020` using the `slice` method described for the `pop_1990` array."
   ]
  },
  {
   "cell_type": "code",
   "execution_count": 23,
   "id": "66da8362-3f9a-4e0e-a031-e17c8c7aeded",
   "metadata": {},
   "outputs": [
    {
     "data": {
      "text/plain": [
       "array([8.91273202e+08, 9.09307018e+08, 9.27403866e+08, 9.45601828e+08,\n",
       "       9.63922586e+08, 9.82365248e+08, 1.00090003e+09, 1.01948359e+09,\n",
       "       1.03805815e+09, 1.05657555e+09, 1.07500009e+09, 1.09331719e+09,\n",
       "       1.11152315e+09, 1.12962347e+09, 1.14760992e+09, 1.16548629e+09,\n",
       "       1.18320947e+09, 1.20066976e+09, 1.21772622e+09, 1.23428116e+09,\n",
       "       1.25028794e+09, 1.26578024e+09, 1.28084212e+09, 1.29560077e+09,\n",
       "       1.31015239e+09, 1.32451725e+09, 1.33867678e+09, 1.35264228e+09,\n",
       "       1.36641776e+09, 1.38000438e+09])"
      ]
     },
     "execution_count": 23,
     "metadata": {},
     "output_type": "execute_result"
    }
   ],
   "source": [
    "pop_2020 = np.delete(pop_all, slice(0,31,1))\n",
    "pop_2020"
   ]
  },
  {
   "cell_type": "markdown",
   "id": "df7cd2f5-9662-4d66-8d16-5c76f99bcd72",
   "metadata": {},
   "source": [
    "We will now draw on our knowlege from the previous data visualisation session using `matplotlib` to scatter the three arrays with the following labels:\n",
    "* `pop_predict_1`  = \"method 1\"\n",
    "* `pop_predict_2` = \"method 2\"\n",
    "* `pop_2020`  = \"reality\"\n",
    "\n",
    "Don't forget to include a legend.  To display the graph, `plt.show(block=False)` is required - the `block` element helping circumnavigate python's desire in this case to overprocess the command."
   ]
  },
  {
   "cell_type": "code",
   "execution_count": 35,
   "id": "08c7666e-dcf0-43fc-b2bc-22835addb568",
   "metadata": {},
   "outputs": [
    {
     "data": {
      "image/png": "[encoded data removed]",
      "text/plain": [
       "<Figure size 640x480 with 1 Axes>"
      ]
     },
     "metadata": {},
     "output_type": "display_data"
    }
   ],
   "source": [
    "fig = plt.figure()\n",
    "ax = fig.add_axes([0,0,1,1])\n",
    "\n",
    "ax.scatter(new_years, pop_predict_1, label = \"method 1\")\n",
    "ax.scatter(new_years, pop_predict_2, label = \"method 2\")\n",
    "ax.scatter(new_years, pop_2020, label = \"reality\")\n",
    "plt.legend()\n",
    "plt.show(block=False)"
   ]
  },
  {
   "cell_type": "markdown",
   "id": "09930d70-f5bb-44a2-a6d9-927ee3af1c46",
   "metadata": {},
   "source": [
    "Both extrapolations are a lot more ambitious with their predictions compared to reality.  Interestingly, the NumPy methodology is closer to reality than the traditional method of using a population growth equation!"
   ]
  },
  {
   "cell_type": "markdown",
   "id": "b9581d6f-fa3f-4cb0-a18b-49eb50b93c7a",
   "metadata": {},
   "source": [
    "Hope you enjoyed this notebook, and it offered a glimpse into what NumPy can do to hopefully make your life a bit easier when it comes to maths :)"
   ]
  }
 ],
 "metadata": {
  "kernelspec": {
   "display_name": "Python for Data Science",
   "language": "python",
   "name": "pyds"
  },
  "language_info": {
   "codemirror_mode": {
    "name": "ipython",
    "version": 3
   },
   "file_extension": ".py",
   "mimetype": "text/x-python",
   "name": "python",
   "nbconvert_exporter": "python",
   "pygments_lexer": "ipython3",
   "version": "3.8.11"
  }
 },
 "nbformat": 4,
 "nbformat_minor": 5
}
