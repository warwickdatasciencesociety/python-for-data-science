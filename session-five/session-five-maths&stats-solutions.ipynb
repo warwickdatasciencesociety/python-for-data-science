{
 "cells": [
  {
   "cell_type": "markdown",
   "id": "1cf0d4f5",
   "metadata": {},
   "source": [
    "# Python for Data Science Practice Session 5 : Mathematics and Statistics"
   ]
  },
  {
   "cell_type": "markdown",
   "id": "56182564",
   "metadata": {},
   "source": [
    "In this session, we will through two classification problems. We will be learning how to use Logistic Regression in the first mini-project, and a Feed Forward Neural Network in the second one."
   ]
  },
  {
   "cell_type": "markdown",
   "id": "c8c7fbf3",
   "metadata": {},
   "source": [
    "## NBA Dataset"
   ]
  },
  {
   "cell_type": "markdown",
   "id": "05ad63d1",
   "metadata": {},
   "source": [
    "Our dataset for this mini-project is about NBA players. It contains the performance metrics of each NBA player, and those metrics will be used to predict whether the basketball player's career will last for more than 5 years or not."
   ]
  },
  {
   "cell_type": "code",
   "execution_count": 663,
   "id": "42ffc3f8",
   "metadata": {},
   "outputs": [],
   "source": [
    "#Import Pandas, Numpy, Matplotlib\n",
    "import pandas as pd\n",
    "import numpy as np\n",
    "import matplotlib.pyplot as plt"
   ]
  },
  {
   "cell_type": "code",
   "execution_count": 664,
   "id": "ead43b76",
   "metadata": {},
   "outputs": [],
   "source": [
    "#Import dataset\n",
    "nba = pd.read_csv('nba_logreg.csv')"
   ]
  },
  {
   "cell_type": "code",
   "execution_count": 665,
   "id": "1b81a8af",
   "metadata": {},
   "outputs": [
    {
     "data": {
      "text/html": [
       "<div>\n",
       "<style scoped>\n",
       "    .dataframe tbody tr th:only-of-type {\n",
       "        vertical-align: middle;\n",
       "    }\n",
       "\n",
       "    .dataframe tbody tr th {\n",
       "        vertical-align: top;\n",
       "    }\n",
       "\n",
       "    .dataframe thead th {\n",
       "        text-align: right;\n",
       "    }\n",
       "</style>\n",
       "<table border=\"1\" class=\"dataframe\">\n",
       "  <thead>\n",
       "    <tr style=\"text-align: right;\">\n",
       "      <th></th>\n",
       "      <th>Name</th>\n",
       "      <th>GP</th>\n",
       "      <th>MIN</th>\n",
       "      <th>PTS</th>\n",
       "      <th>FGM</th>\n",
       "      <th>FGA</th>\n",
       "      <th>FG%</th>\n",
       "      <th>3P Made</th>\n",
       "      <th>3PA</th>\n",
       "      <th>3P%</th>\n",
       "      <th>...</th>\n",
       "      <th>FTA</th>\n",
       "      <th>FT%</th>\n",
       "      <th>OREB</th>\n",
       "      <th>DREB</th>\n",
       "      <th>REB</th>\n",
       "      <th>AST</th>\n",
       "      <th>STL</th>\n",
       "      <th>BLK</th>\n",
       "      <th>TOV</th>\n",
       "      <th>TARGET_5Yrs</th>\n",
       "    </tr>\n",
       "  </thead>\n",
       "  <tbody>\n",
       "    <tr>\n",
       "      <th>0</th>\n",
       "      <td>Brandon Ingram</td>\n",
       "      <td>36</td>\n",
       "      <td>27.4</td>\n",
       "      <td>7.4</td>\n",
       "      <td>2.6</td>\n",
       "      <td>7.6</td>\n",
       "      <td>34.7</td>\n",
       "      <td>0.5</td>\n",
       "      <td>2.1</td>\n",
       "      <td>25.0</td>\n",
       "      <td>...</td>\n",
       "      <td>2.3</td>\n",
       "      <td>69.9</td>\n",
       "      <td>0.7</td>\n",
       "      <td>3.4</td>\n",
       "      <td>4.1</td>\n",
       "      <td>1.9</td>\n",
       "      <td>0.4</td>\n",
       "      <td>0.4</td>\n",
       "      <td>1.3</td>\n",
       "      <td>0.0</td>\n",
       "    </tr>\n",
       "    <tr>\n",
       "      <th>1</th>\n",
       "      <td>Andrew Harrison</td>\n",
       "      <td>35</td>\n",
       "      <td>26.9</td>\n",
       "      <td>7.2</td>\n",
       "      <td>2.0</td>\n",
       "      <td>6.7</td>\n",
       "      <td>29.6</td>\n",
       "      <td>0.7</td>\n",
       "      <td>2.8</td>\n",
       "      <td>23.5</td>\n",
       "      <td>...</td>\n",
       "      <td>3.4</td>\n",
       "      <td>76.5</td>\n",
       "      <td>0.5</td>\n",
       "      <td>2.0</td>\n",
       "      <td>2.4</td>\n",
       "      <td>3.7</td>\n",
       "      <td>1.1</td>\n",
       "      <td>0.5</td>\n",
       "      <td>1.6</td>\n",
       "      <td>0.0</td>\n",
       "    </tr>\n",
       "    <tr>\n",
       "      <th>2</th>\n",
       "      <td>JaKarr Sampson</td>\n",
       "      <td>74</td>\n",
       "      <td>15.3</td>\n",
       "      <td>5.2</td>\n",
       "      <td>2.0</td>\n",
       "      <td>4.7</td>\n",
       "      <td>42.2</td>\n",
       "      <td>0.4</td>\n",
       "      <td>1.7</td>\n",
       "      <td>24.4</td>\n",
       "      <td>...</td>\n",
       "      <td>1.3</td>\n",
       "      <td>67.0</td>\n",
       "      <td>0.5</td>\n",
       "      <td>1.7</td>\n",
       "      <td>2.2</td>\n",
       "      <td>1.0</td>\n",
       "      <td>0.5</td>\n",
       "      <td>0.3</td>\n",
       "      <td>1.0</td>\n",
       "      <td>0.0</td>\n",
       "    </tr>\n",
       "    <tr>\n",
       "      <th>3</th>\n",
       "      <td>Malik Sealy</td>\n",
       "      <td>58</td>\n",
       "      <td>11.6</td>\n",
       "      <td>5.7</td>\n",
       "      <td>2.3</td>\n",
       "      <td>5.5</td>\n",
       "      <td>42.6</td>\n",
       "      <td>0.1</td>\n",
       "      <td>0.5</td>\n",
       "      <td>22.6</td>\n",
       "      <td>...</td>\n",
       "      <td>1.3</td>\n",
       "      <td>68.9</td>\n",
       "      <td>1.0</td>\n",
       "      <td>0.9</td>\n",
       "      <td>1.9</td>\n",
       "      <td>0.8</td>\n",
       "      <td>0.6</td>\n",
       "      <td>0.1</td>\n",
       "      <td>1.0</td>\n",
       "      <td>1.0</td>\n",
       "    </tr>\n",
       "    <tr>\n",
       "      <th>4</th>\n",
       "      <td>Matt Geiger</td>\n",
       "      <td>48</td>\n",
       "      <td>11.5</td>\n",
       "      <td>4.5</td>\n",
       "      <td>1.6</td>\n",
       "      <td>3.0</td>\n",
       "      <td>52.4</td>\n",
       "      <td>0.0</td>\n",
       "      <td>0.1</td>\n",
       "      <td>0.0</td>\n",
       "      <td>...</td>\n",
       "      <td>1.9</td>\n",
       "      <td>67.4</td>\n",
       "      <td>1.0</td>\n",
       "      <td>1.5</td>\n",
       "      <td>2.5</td>\n",
       "      <td>0.3</td>\n",
       "      <td>0.3</td>\n",
       "      <td>0.4</td>\n",
       "      <td>0.8</td>\n",
       "      <td>1.0</td>\n",
       "    </tr>\n",
       "  </tbody>\n",
       "</table>\n",
       "<p>5 rows × 21 columns</p>\n",
       "</div>"
      ],
      "text/plain": [
       "              Name  GP   MIN  PTS  FGM  FGA   FG%  3P Made  3PA   3P%  ...  \\\n",
       "0   Brandon Ingram  36  27.4  7.4  2.6  7.6  34.7      0.5  2.1  25.0  ...   \n",
       "1  Andrew Harrison  35  26.9  7.2  2.0  6.7  29.6      0.7  2.8  23.5  ...   \n",
       "2   JaKarr Sampson  74  15.3  5.2  2.0  4.7  42.2      0.4  1.7  24.4  ...   \n",
       "3      Malik Sealy  58  11.6  5.7  2.3  5.5  42.6      0.1  0.5  22.6  ...   \n",
       "4      Matt Geiger  48  11.5  4.5  1.6  3.0  52.4      0.0  0.1   0.0  ...   \n",
       "\n",
       "   FTA   FT%  OREB  DREB  REB  AST  STL  BLK  TOV  TARGET_5Yrs  \n",
       "0  2.3  69.9   0.7   3.4  4.1  1.9  0.4  0.4  1.3          0.0  \n",
       "1  3.4  76.5   0.5   2.0  2.4  3.7  1.1  0.5  1.6          0.0  \n",
       "2  1.3  67.0   0.5   1.7  2.2  1.0  0.5  0.3  1.0          0.0  \n",
       "3  1.3  68.9   1.0   0.9  1.9  0.8  0.6  0.1  1.0          1.0  \n",
       "4  1.9  67.4   1.0   1.5  2.5  0.3  0.3  0.4  0.8          1.0  \n",
       "\n",
       "[5 rows x 21 columns]"
      ]
     },
     "execution_count": 665,
     "metadata": {},
     "output_type": "execute_result"
    }
   ],
   "source": [
    "#Import the first 5 rows \n",
    "nba.head()"
   ]
  },
  {
   "cell_type": "code",
   "execution_count": 666,
   "id": "6a381d8f",
   "metadata": {},
   "outputs": [
    {
     "name": "stdout",
     "output_type": "stream",
     "text": [
      "<class 'pandas.core.frame.DataFrame'>\n",
      "RangeIndex: 1340 entries, 0 to 1339\n",
      "Data columns (total 21 columns):\n",
      " #   Column       Non-Null Count  Dtype  \n",
      "---  ------       --------------  -----  \n",
      " 0   Name         1340 non-null   object \n",
      " 1   GP           1340 non-null   int64  \n",
      " 2   MIN          1340 non-null   float64\n",
      " 3   PTS          1340 non-null   float64\n",
      " 4   FGM          1340 non-null   float64\n",
      " 5   FGA          1340 non-null   float64\n",
      " 6   FG%          1340 non-null   float64\n",
      " 7   3P Made      1340 non-null   float64\n",
      " 8   3PA          1340 non-null   float64\n",
      " 9   3P%          1329 non-null   float64\n",
      " 10  FTM          1340 non-null   float64\n",
      " 11  FTA          1340 non-null   float64\n",
      " 12  FT%          1340 non-null   float64\n",
      " 13  OREB         1340 non-null   float64\n",
      " 14  DREB         1340 non-null   float64\n",
      " 15  REB          1340 non-null   float64\n",
      " 16  AST          1340 non-null   float64\n",
      " 17  STL          1340 non-null   float64\n",
      " 18  BLK          1340 non-null   float64\n",
      " 19  TOV          1340 non-null   float64\n",
      " 20  TARGET_5Yrs  1340 non-null   float64\n",
      "dtypes: float64(19), int64(1), object(1)\n",
      "memory usage: 220.0+ KB\n"
     ]
    }
   ],
   "source": [
    "#Import the dataset's info\n",
    "nba.info()"
   ]
  },
  {
   "cell_type": "code",
   "execution_count": 667,
   "id": "88ec6901",
   "metadata": {},
   "outputs": [
    {
     "data": {
      "text/plain": [
       "Name            0\n",
       "GP              0\n",
       "MIN             0\n",
       "PTS             0\n",
       "FGM             0\n",
       "FGA             0\n",
       "FG%             0\n",
       "3P Made         0\n",
       "3PA             0\n",
       "3P%            11\n",
       "FTM             0\n",
       "FTA             0\n",
       "FT%             0\n",
       "OREB            0\n",
       "DREB            0\n",
       "REB             0\n",
       "AST             0\n",
       "STL             0\n",
       "BLK             0\n",
       "TOV             0\n",
       "TARGET_5Yrs     0\n",
       "dtype: int64"
      ]
     },
     "execution_count": 667,
     "metadata": {},
     "output_type": "execute_result"
    }
   ],
   "source": [
    "#How many missing values do we have?\n",
    "nba.isna().sum()"
   ]
  },
  {
   "cell_type": "markdown",
   "id": "cf4c875d",
   "metadata": {},
   "source": [
    "Using what you learned from the fourth session, impute the missing data in this dataset with whichever imputation method you think is best."
   ]
  },
  {
   "cell_type": "code",
   "execution_count": 668,
   "id": "6d0206e8",
   "metadata": {},
   "outputs": [],
   "source": [
    "#Impute the missing data\n",
    "import impyute as impy\n",
    "nba_array = np.array(nba.iloc[:,1:])\n",
    "nba_imputed = impy.mean(nba_array)\n",
    "nba.iloc[:,1:] = nba_imputed"
   ]
  },
  {
   "cell_type": "code",
   "execution_count": 669,
   "id": "4e835f0d",
   "metadata": {},
   "outputs": [
    {
     "data": {
      "text/html": [
       "<div>\n",
       "<style scoped>\n",
       "    .dataframe tbody tr th:only-of-type {\n",
       "        vertical-align: middle;\n",
       "    }\n",
       "\n",
       "    .dataframe tbody tr th {\n",
       "        vertical-align: top;\n",
       "    }\n",
       "\n",
       "    .dataframe thead th {\n",
       "        text-align: right;\n",
       "    }\n",
       "</style>\n",
       "<table border=\"1\" class=\"dataframe\">\n",
       "  <thead>\n",
       "    <tr style=\"text-align: right;\">\n",
       "      <th></th>\n",
       "      <th>GP</th>\n",
       "      <th>MIN</th>\n",
       "      <th>PTS</th>\n",
       "      <th>FGM</th>\n",
       "      <th>FGA</th>\n",
       "      <th>FG%</th>\n",
       "      <th>3P Made</th>\n",
       "      <th>3PA</th>\n",
       "      <th>3P%</th>\n",
       "      <th>FTM</th>\n",
       "      <th>FTA</th>\n",
       "      <th>FT%</th>\n",
       "      <th>OREB</th>\n",
       "      <th>DREB</th>\n",
       "      <th>REB</th>\n",
       "      <th>AST</th>\n",
       "      <th>STL</th>\n",
       "      <th>BLK</th>\n",
       "      <th>TOV</th>\n",
       "      <th>TARGET_5Yrs</th>\n",
       "    </tr>\n",
       "  </thead>\n",
       "  <tbody>\n",
       "    <tr>\n",
       "      <th>count</th>\n",
       "      <td>1340.000000</td>\n",
       "      <td>1340.000000</td>\n",
       "      <td>1340.000000</td>\n",
       "      <td>1340.000000</td>\n",
       "      <td>1340.000000</td>\n",
       "      <td>1340.000000</td>\n",
       "      <td>1340.000000</td>\n",
       "      <td>1340.000000</td>\n",
       "      <td>1340.000000</td>\n",
       "      <td>1340.000000</td>\n",
       "      <td>1340.000000</td>\n",
       "      <td>1340.000000</td>\n",
       "      <td>1340.000000</td>\n",
       "      <td>1340.000000</td>\n",
       "      <td>1340.000000</td>\n",
       "      <td>1340.000000</td>\n",
       "      <td>1340.000000</td>\n",
       "      <td>1340.000000</td>\n",
       "      <td>1340.000000</td>\n",
       "      <td>1340.000000</td>\n",
       "    </tr>\n",
       "    <tr>\n",
       "      <th>mean</th>\n",
       "      <td>60.414179</td>\n",
       "      <td>17.624627</td>\n",
       "      <td>6.801493</td>\n",
       "      <td>2.629104</td>\n",
       "      <td>5.885299</td>\n",
       "      <td>44.169403</td>\n",
       "      <td>0.247612</td>\n",
       "      <td>0.779179</td>\n",
       "      <td>19.308126</td>\n",
       "      <td>1.297687</td>\n",
       "      <td>1.821940</td>\n",
       "      <td>70.300299</td>\n",
       "      <td>1.009403</td>\n",
       "      <td>2.025746</td>\n",
       "      <td>3.034478</td>\n",
       "      <td>1.550522</td>\n",
       "      <td>0.618507</td>\n",
       "      <td>0.368582</td>\n",
       "      <td>1.193582</td>\n",
       "      <td>0.620149</td>\n",
       "    </tr>\n",
       "    <tr>\n",
       "      <th>std</th>\n",
       "      <td>17.433992</td>\n",
       "      <td>8.307964</td>\n",
       "      <td>4.357545</td>\n",
       "      <td>1.683555</td>\n",
       "      <td>3.593488</td>\n",
       "      <td>6.137679</td>\n",
       "      <td>0.383688</td>\n",
       "      <td>1.061847</td>\n",
       "      <td>15.956966</td>\n",
       "      <td>0.987246</td>\n",
       "      <td>1.322984</td>\n",
       "      <td>10.578479</td>\n",
       "      <td>0.777119</td>\n",
       "      <td>1.360008</td>\n",
       "      <td>2.057774</td>\n",
       "      <td>1.471169</td>\n",
       "      <td>0.409759</td>\n",
       "      <td>0.429049</td>\n",
       "      <td>0.722541</td>\n",
       "      <td>0.485531</td>\n",
       "    </tr>\n",
       "    <tr>\n",
       "      <th>min</th>\n",
       "      <td>11.000000</td>\n",
       "      <td>3.100000</td>\n",
       "      <td>0.700000</td>\n",
       "      <td>0.300000</td>\n",
       "      <td>0.800000</td>\n",
       "      <td>23.800000</td>\n",
       "      <td>0.000000</td>\n",
       "      <td>0.000000</td>\n",
       "      <td>0.000000</td>\n",
       "      <td>0.000000</td>\n",
       "      <td>0.000000</td>\n",
       "      <td>0.000000</td>\n",
       "      <td>0.000000</td>\n",
       "      <td>0.200000</td>\n",
       "      <td>0.300000</td>\n",
       "      <td>0.000000</td>\n",
       "      <td>0.000000</td>\n",
       "      <td>0.000000</td>\n",
       "      <td>0.100000</td>\n",
       "      <td>0.000000</td>\n",
       "    </tr>\n",
       "    <tr>\n",
       "      <th>25%</th>\n",
       "      <td>47.000000</td>\n",
       "      <td>10.875000</td>\n",
       "      <td>3.700000</td>\n",
       "      <td>1.400000</td>\n",
       "      <td>3.300000</td>\n",
       "      <td>40.200000</td>\n",
       "      <td>0.000000</td>\n",
       "      <td>0.000000</td>\n",
       "      <td>0.000000</td>\n",
       "      <td>0.600000</td>\n",
       "      <td>0.900000</td>\n",
       "      <td>64.700000</td>\n",
       "      <td>0.400000</td>\n",
       "      <td>1.000000</td>\n",
       "      <td>1.500000</td>\n",
       "      <td>0.600000</td>\n",
       "      <td>0.300000</td>\n",
       "      <td>0.100000</td>\n",
       "      <td>0.700000</td>\n",
       "      <td>0.000000</td>\n",
       "    </tr>\n",
       "    <tr>\n",
       "      <th>50%</th>\n",
       "      <td>63.000000</td>\n",
       "      <td>16.100000</td>\n",
       "      <td>5.550000</td>\n",
       "      <td>2.100000</td>\n",
       "      <td>4.800000</td>\n",
       "      <td>44.100000</td>\n",
       "      <td>0.100000</td>\n",
       "      <td>0.300000</td>\n",
       "      <td>22.200000</td>\n",
       "      <td>1.000000</td>\n",
       "      <td>1.500000</td>\n",
       "      <td>71.250000</td>\n",
       "      <td>0.800000</td>\n",
       "      <td>1.700000</td>\n",
       "      <td>2.500000</td>\n",
       "      <td>1.100000</td>\n",
       "      <td>0.500000</td>\n",
       "      <td>0.200000</td>\n",
       "      <td>1.000000</td>\n",
       "      <td>1.000000</td>\n",
       "    </tr>\n",
       "    <tr>\n",
       "      <th>75%</th>\n",
       "      <td>77.000000</td>\n",
       "      <td>22.900000</td>\n",
       "      <td>8.800000</td>\n",
       "      <td>3.400000</td>\n",
       "      <td>7.500000</td>\n",
       "      <td>47.900000</td>\n",
       "      <td>0.400000</td>\n",
       "      <td>1.200000</td>\n",
       "      <td>32.500000</td>\n",
       "      <td>1.600000</td>\n",
       "      <td>2.300000</td>\n",
       "      <td>77.600000</td>\n",
       "      <td>1.400000</td>\n",
       "      <td>2.600000</td>\n",
       "      <td>4.000000</td>\n",
       "      <td>2.000000</td>\n",
       "      <td>0.800000</td>\n",
       "      <td>0.500000</td>\n",
       "      <td>1.500000</td>\n",
       "      <td>1.000000</td>\n",
       "    </tr>\n",
       "    <tr>\n",
       "      <th>max</th>\n",
       "      <td>82.000000</td>\n",
       "      <td>40.900000</td>\n",
       "      <td>28.200000</td>\n",
       "      <td>10.200000</td>\n",
       "      <td>19.800000</td>\n",
       "      <td>73.700000</td>\n",
       "      <td>2.300000</td>\n",
       "      <td>6.500000</td>\n",
       "      <td>100.000000</td>\n",
       "      <td>7.700000</td>\n",
       "      <td>10.200000</td>\n",
       "      <td>100.000000</td>\n",
       "      <td>5.300000</td>\n",
       "      <td>9.600000</td>\n",
       "      <td>13.900000</td>\n",
       "      <td>10.600000</td>\n",
       "      <td>2.500000</td>\n",
       "      <td>3.900000</td>\n",
       "      <td>4.400000</td>\n",
       "      <td>1.000000</td>\n",
       "    </tr>\n",
       "  </tbody>\n",
       "</table>\n",
       "</div>"
      ],
      "text/plain": [
       "                GP          MIN          PTS          FGM          FGA  \\\n",
       "count  1340.000000  1340.000000  1340.000000  1340.000000  1340.000000   \n",
       "mean     60.414179    17.624627     6.801493     2.629104     5.885299   \n",
       "std      17.433992     8.307964     4.357545     1.683555     3.593488   \n",
       "min      11.000000     3.100000     0.700000     0.300000     0.800000   \n",
       "25%      47.000000    10.875000     3.700000     1.400000     3.300000   \n",
       "50%      63.000000    16.100000     5.550000     2.100000     4.800000   \n",
       "75%      77.000000    22.900000     8.800000     3.400000     7.500000   \n",
       "max      82.000000    40.900000    28.200000    10.200000    19.800000   \n",
       "\n",
       "               FG%      3P Made          3PA          3P%          FTM  \\\n",
       "count  1340.000000  1340.000000  1340.000000  1340.000000  1340.000000   \n",
       "mean     44.169403     0.247612     0.779179    19.308126     1.297687   \n",
       "std       6.137679     0.383688     1.061847    15.956966     0.987246   \n",
       "min      23.800000     0.000000     0.000000     0.000000     0.000000   \n",
       "25%      40.200000     0.000000     0.000000     0.000000     0.600000   \n",
       "50%      44.100000     0.100000     0.300000    22.200000     1.000000   \n",
       "75%      47.900000     0.400000     1.200000    32.500000     1.600000   \n",
       "max      73.700000     2.300000     6.500000   100.000000     7.700000   \n",
       "\n",
       "               FTA          FT%         OREB         DREB          REB  \\\n",
       "count  1340.000000  1340.000000  1340.000000  1340.000000  1340.000000   \n",
       "mean      1.821940    70.300299     1.009403     2.025746     3.034478   \n",
       "std       1.322984    10.578479     0.777119     1.360008     2.057774   \n",
       "min       0.000000     0.000000     0.000000     0.200000     0.300000   \n",
       "25%       0.900000    64.700000     0.400000     1.000000     1.500000   \n",
       "50%       1.500000    71.250000     0.800000     1.700000     2.500000   \n",
       "75%       2.300000    77.600000     1.400000     2.600000     4.000000   \n",
       "max      10.200000   100.000000     5.300000     9.600000    13.900000   \n",
       "\n",
       "               AST          STL          BLK          TOV  TARGET_5Yrs  \n",
       "count  1340.000000  1340.000000  1340.000000  1340.000000  1340.000000  \n",
       "mean      1.550522     0.618507     0.368582     1.193582     0.620149  \n",
       "std       1.471169     0.409759     0.429049     0.722541     0.485531  \n",
       "min       0.000000     0.000000     0.000000     0.100000     0.000000  \n",
       "25%       0.600000     0.300000     0.100000     0.700000     0.000000  \n",
       "50%       1.100000     0.500000     0.200000     1.000000     1.000000  \n",
       "75%       2.000000     0.800000     0.500000     1.500000     1.000000  \n",
       "max      10.600000     2.500000     3.900000     4.400000     1.000000  "
      ]
     },
     "execution_count": 669,
     "metadata": {},
     "output_type": "execute_result"
    }
   ],
   "source": [
    "#View a summary of the dataset\n",
    "nba.describe()"
   ]
  },
  {
   "cell_type": "markdown",
   "id": "ea4731cc",
   "metadata": {},
   "source": [
    "Now, to get the dataset ready to be input into a classification model, drop the column `Name`"
   ]
  },
  {
   "cell_type": "code",
   "execution_count": 670,
   "id": "2d97c96d",
   "metadata": {},
   "outputs": [],
   "source": [
    "#Drop the columnn Name\n",
    "nba.drop(['Name'], axis=1, inplace=True)"
   ]
  },
  {
   "cell_type": "markdown",
   "id": "c894a239",
   "metadata": {},
   "source": [
    "## Logistic Regression"
   ]
  },
  {
   "cell_type": "markdown",
   "id": "0bd82057",
   "metadata": {},
   "source": [
    "Logistic Regression is a traditional statistical modelling technique that is also used a lot in Machine Learning applications. If you have never seen it before, I would recommend you to watch StatQuest's video about Linear Regression from here (https://www.youtube.com/watch?v=yIYKR4sgzI8) to get the intuition behind it.\n",
    "\n",
    "StatQuest also has a series of three other videos that go through specifics such as the model's co-efficients and how they are calculated."
   ]
  },
  {
   "cell_type": "markdown",
   "id": "7759ba1a",
   "metadata": {},
   "source": [
    "-  - - - "
   ]
  },
  {
   "cell_type": "markdown",
   "id": "20bbe0b7",
   "metadata": {},
   "source": [
    "Start by creating your `X` and `y` variables"
   ]
  },
  {
   "cell_type": "code",
   "execution_count": 671,
   "id": "a193947b",
   "metadata": {},
   "outputs": [],
   "source": [
    "#Create X and y\n",
    "X = nba.iloc[:,:-1].values\n",
    "y = nba.iloc[:,-1].values"
   ]
  },
  {
   "cell_type": "markdown",
   "id": "473cddd8",
   "metadata": {},
   "source": [
    "Using `train_test_split` as taught in the teaching session, create `X_train`, `X_test`, `y_train` and `y_test` with `test_size` of 0.2, and `random_state` of 0"
   ]
  },
  {
   "cell_type": "code",
   "execution_count": 672,
   "id": "9de8e728",
   "metadata": {},
   "outputs": [],
   "source": [
    "#Create X_train, X_test, y_train and y_test\n",
    "X_train, X_test, y_train, y_test = train_test_split(X, y, test_size = 0.2, random_state = 0)"
   ]
  },
  {
   "cell_type": "markdown",
   "id": "f8c19174",
   "metadata": {},
   "source": [
    "Now, we are going to standardize the data in X. The predictors in Logistic Regression have parameters associated with them that can be adjusted to take the different scales of the predictors into consideration, and so the difference in scales does not help in that matter. We standardize the data to help speed up the process of the convergence of the iterative algorithm that is used by Python to calculate those parameters. "
   ]
  },
  {
   "cell_type": "markdown",
   "id": "d093a1b3",
   "metadata": {},
   "source": [
    "We will be using `StandardScaler()` to do this as shown in the teaching session, but there is one thing I must add here that is different to how we used it in the clustering application. The scaling should be fitted <b>ONLY</b> on the training data, and not on both the training and test data. In a real life project, you only have access to your training data when you are creating your model, so you should think of your test data here as being unseen data. You should not touch it except when you have your model ready to be used on unseen data. Even when we assess the performance of our model, we will be using a subset of our training data called validation data to test our model on. Once we are pleased with the performance of our model, we can then apply it on our test data. This will all be clear in a bit. "
   ]
  },
  {
   "cell_type": "markdown",
   "id": "f1b94d28",
   "metadata": {},
   "source": [
    "For now, fit and transform the training data using `StandardScaler()` and then transform the test data using the same scaler. You can find the documentation for `StandardScaler()` here (https://scikit-learn.org/stable/modules/generated/sklearn.preprocessing.StandardScaler.html) if you're interested in learning more about its parameters."
   ]
  },
  {
   "cell_type": "code",
   "execution_count": 673,
   "id": "e510cf0c",
   "metadata": {},
   "outputs": [],
   "source": [
    "#Standardize your data\n",
    "from sklearn.preprocessing import StandardScaler\n",
    "sc = StandardScaler()\n",
    "X_train = sc.fit_transform(X_train)\n",
    "X_test = sc.transform(X_test)"
   ]
  },
  {
   "cell_type": "markdown",
   "id": "9571e4b3",
   "metadata": {},
   "source": [
    "Now, import `LogisticRegression()` from `sklearn.linear_model`. You can find the documentation for `LogisticRegression()` here (https://scikit-learn.org/stable/modules/generated/sklearn.linear_model.LogisticRegression.html) if you're interested in learning more about its parameters."
   ]
  },
  {
   "cell_type": "code",
   "execution_count": 603,
   "id": "192af839",
   "metadata": {},
   "outputs": [],
   "source": [
    "#Import LogisticRegression\n",
    "from sklearn.linear_model import LogisticRegression"
   ]
  },
  {
   "cell_type": "markdown",
   "id": "06688457",
   "metadata": {},
   "source": [
    "Now, we are going to create a Logistic Regression model and call it classifier. The only parameter I want you to specify is the `random_state` and I want you to set it to 0."
   ]
  },
  {
   "cell_type": "code",
   "execution_count": 604,
   "id": "e2cfd079",
   "metadata": {},
   "outputs": [],
   "source": [
    "#Create a logistic regression model, call it classifier, and set random_state to 0\n",
    "classifier = LogisticRegression(random_state = 0)"
   ]
  },
  {
   "cell_type": "markdown",
   "id": "c4f7cf4d",
   "metadata": {},
   "source": [
    "Now, we will start focussing on the performance of Logistic Regression on this dataset. This gets us back to the idea of validation data. The way we test the accuracy of the model is by using something called K-Fold Cross Validation. As explained in the teaching session, the training data gets split up into K folds. The model is then fitted to K-1 folds, and tested on the left-out fold. This process is then repeated on all of the combinations of K-1 folds, and all the left-out folds. The left out fold is what we call the validation data. From its name, the validation data is used to validate the performance and accuracy of our model. For each process, the accuracy of the model is calculated by testing its performance on the validation data. After finishing all of the processes, we will get the average value for the accuracies as an indicator on the general performance of the model.\n",
    "\n",
    "It might seem unintuitive to use validation data as a way to test the performance of our model, even though we have defined what our test data is. But think about this for a moment. In real life projects, the test data generally do not come with their response variables, so how will we assess the performance of our model? What will we compare our predictions to? This is where validation data comes in handy. "
   ]
  },
  {
   "cell_type": "markdown",
   "id": "7f74b505",
   "metadata": {},
   "source": [
    "Now, import `cross_val_score` from `sklearn.model_selection`. You can find the documentation for `cross_val_score` here (https://scikit-learn.org/stable/modules/generated/sklearn.model_selection.cross_val_score.html) if you're interested in learning more about its parameters.\n",
    "\n",
    "Use it to perform a 5-Fold Cross Validation, and output the average accuracy of the model on the 5 validation sets. "
   ]
  },
  {
   "cell_type": "code",
   "execution_count": 674,
   "id": "cef6fdeb",
   "metadata": {},
   "outputs": [
    {
     "data": {
      "text/plain": [
       "0.7098500326016083"
      ]
     },
     "execution_count": 674,
     "metadata": {},
     "output_type": "execute_result"
    }
   ],
   "source": [
    "#Calculate the cross validation score over 5 folds\n",
    "from sklearn.model_selection import cross_val_score\n",
    "\n",
    "lr_score = cross_val_score(classifier, X_train, y_train)\n",
    "lr_score.mean()"
   ]
  },
  {
   "cell_type": "markdown",
   "id": "45abeeee",
   "metadata": {},
   "source": [
    "We get an accuracy of approximately 71%."
   ]
  },
  {
   "cell_type": "markdown",
   "id": "dcca1383",
   "metadata": {},
   "source": [
    "Now, fit the model on all of the training data"
   ]
  },
  {
   "cell_type": "code",
   "execution_count": 675,
   "id": "91ab867e",
   "metadata": {},
   "outputs": [
    {
     "data": {
      "text/plain": [
       "LogisticRegression(random_state=0)"
      ]
     },
     "execution_count": 675,
     "metadata": {},
     "output_type": "execute_result"
    }
   ],
   "source": [
    "#Fit the model on the training data\n",
    "classifier.fit(X_train, y_train)"
   ]
  },
  {
   "cell_type": "markdown",
   "id": "417d0472",
   "metadata": {},
   "source": [
    "### Test model on the test data"
   ]
  },
  {
   "cell_type": "markdown",
   "id": "2ecb8cb6",
   "metadata": {},
   "source": [
    "Create a variable called `y_pred` that contains the predictions of the test data in our model"
   ]
  },
  {
   "cell_type": "code",
   "execution_count": 676,
   "id": "3f581546",
   "metadata": {},
   "outputs": [],
   "source": [
    "#Create y_pred\n",
    "y_pred = classifier.predict(X_test)"
   ]
  },
  {
   "cell_type": "markdown",
   "id": "adc40ab3",
   "metadata": {},
   "source": [
    "Output the accuracy of the model on the test data"
   ]
  },
  {
   "cell_type": "code",
   "execution_count": 678,
   "id": "7a57f021",
   "metadata": {},
   "outputs": [
    {
     "name": "stdout",
     "output_type": "stream",
     "text": [
      "The accuracy is 0.701\n"
     ]
    }
   ],
   "source": [
    "#Output the accuracy of the model on the test data\n",
    "print('The accuracy is', round(1 - (sum((y_test - y_pred)**2) / len(y_test)), 3) )"
   ]
  },
  {
   "cell_type": "markdown",
   "id": "9165fd2a",
   "metadata": {},
   "source": [
    "We get an accuracy of approximately 70% on the test data, which is not too far off from what we got as an average over the validation data. \n",
    "\n",
    "Is this the best we can do? Definitely there is room for improvement, but I will leave this for you to explore if you're interested in exploring other classification models, or maybe even doing a little bit of feature engineering to improve the performance of logistic regression on this dataset."
   ]
  },
  {
   "cell_type": "markdown",
   "id": "cab98b64",
   "metadata": {},
   "source": [
    "## Is the accuracy metric enough?"
   ]
  },
  {
   "cell_type": "markdown",
   "id": "9fd8e960",
   "metadata": {},
   "source": [
    "Although accuracy is a good starting point to illustrate our model's predictive performance, it does come with some caveats. This is perhaps better illustrated by an example:\n",
    "\n",
    ">**Example:**\n",
    ">\n",
    "> *Imagine if I told you I can build a machine learning model that predicts whether or not an applicant is admitted into Harvard with 96.4% accuracy. Sounds good right! Now what if I told you the model works by predicting `NOT_ACCEPTED` to every applicant, irrespective of any data observed. This works as Harvard has a 4.6% admissions rate, but is our model any good?*  \n",
    "\n",
    "Often, we must consider using other metrics in classification. The best way to start out is by analysing how true positives/negatives are distributed among classes. We can do this through a confusion matrix, which represents this distribution in the following form:\n",
    "\n",
    "\n",
    "<img src='https://miro.medium.com/max/2102/1*fxiTNIgOyvAombPJx5KGeA.png' width=\"450\" height=\"400\">\n",
    "\n",
    "\n",
    "To output the confusion matrix of our predictions, we use the `confusion_matrix()` function from scikit learn (for documentation, see [here](https://scikit-learn.org/stable/modules/generated/sklearn.metrics.confusion_matrix.html?highlight=confusion#sklearn.metrics.confusion_matrix)). Try outputting the confussion matrix for the model applied to the test data:"
   ]
  },
  {
   "cell_type": "code",
   "execution_count": 679,
   "id": "349540be",
   "metadata": {},
   "outputs": [
    {
     "data": {
      "text/plain": [
       "array([[ 64,  26],\n",
       "       [ 54, 124]])"
      ]
     },
     "execution_count": 679,
     "metadata": {},
     "output_type": "execute_result"
    }
   ],
   "source": [
    "#Import confusion_matrix and create a confusion matrix using y_pred and y_test\n",
    "from sklearn.metrics import confusion_matrix\n",
    "confusion_matrix(y_pred, y_test)"
   ]
  },
  {
   "cell_type": "markdown",
   "id": "ca28198c",
   "metadata": {},
   "source": [
    "As you can see, the model's false negatives are approximately double that of the false positives. "
   ]
  },
  {
   "cell_type": "markdown",
   "id": "9224db96",
   "metadata": {},
   "source": [
    "In some cases, the effect of false negatives might outweigh the effects of false positives. Think for example of a model that is used to predict whether a person has cancer or not. Falsely predicting that someone has cancer is not ideal, but it is far less problematic than falsely predicting that someone does not have cancer. It could be fatal. This is why, accuracy on its own is not enough to measure the performance of the model."
   ]
  },
  {
   "cell_type": "markdown",
   "id": "ce05ca8b",
   "metadata": {},
   "source": [
    "There are other metrics for you to look into such as:\n",
    "- <b>Sensitivity</b> (Sometimes called as <b>Recall</b>)\n",
    "\n",
    "- <b>Specificity</b> \n",
    "\n",
    "- <b>PPV</b> (Sometimes called as <b>Precision</b>)\n",
    "\n",
    "- <b>NPV</b>\n",
    "\n",
    "- <b>F1 Score</b>."
   ]
  },
  {
   "cell_type": "markdown",
   "id": "6c76a5f7",
   "metadata": {},
   "source": [
    "## Can we improve the performance of our Logistic Regression model?"
   ]
  },
  {
   "cell_type": "markdown",
   "id": "df366e7e",
   "metadata": {},
   "source": [
    "### Dimensionality Reduction"
   ]
  },
  {
   "cell_type": "markdown",
   "id": "36990a83",
   "metadata": {},
   "source": [
    "One thing that you might have noticed is that we have have a large dimensional dataset (19 columns), and we don't have enough data points (1340 rows). This could lead to overfitting. Think about it in this way. The more features we have, the more complex our model can be, and the more it can align itself to fit the training data more. This could lead to the model fitting to the noises as well, which is not what we want. We want a model that generalises well and captures the main structure and properties of the data; to perform well on unseen data. \n",
    "\n",
    "The problems arising from having high dimensional data is called the Curse of Dimensionality. You can read more about it here: https://en.wikipedia.org/wiki/Curse_of_dimensionality#Machine_Learning"
   ]
  },
  {
   "cell_type": "markdown",
   "id": "fcb41b4b",
   "metadata": {},
   "source": [
    "One way to help with this is to reduce the dimensionality of our data. We are going to use a model called PCA to do this. Read more about it from here: https://towardsdatascience.com/a-one-stop-shop-for-principal-component-analysis-5582fb7e0a9c"
   ]
  },
  {
   "cell_type": "markdown",
   "id": "6ef91df4",
   "metadata": {},
   "source": [
    "### PCA"
   ]
  },
  {
   "cell_type": "markdown",
   "id": "8938d610",
   "metadata": {},
   "source": [
    "Import `PCA` from `sklearn.decomposition`. You can find its documentation here (https://scikit-learn.org/stable/modules/generated/sklearn.decomposition.PCA.html) if you'd like to read more about its parameters."
   ]
  },
  {
   "cell_type": "code",
   "execution_count": 630,
   "id": "8945aa84",
   "metadata": {},
   "outputs": [],
   "source": [
    "#Import PCA\n",
    "from sklearn.decomposition import PCA"
   ]
  },
  {
   "cell_type": "markdown",
   "id": "f2e77733",
   "metadata": {},
   "source": [
    "Create a PCA model with `12` components."
   ]
  },
  {
   "cell_type": "code",
   "execution_count": 683,
   "id": "2fb92de0",
   "metadata": {},
   "outputs": [],
   "source": [
    "#Create a PCA model with 12 components\n",
    "n_components = 12\n",
    "pca_model = PCA(n_components)"
   ]
  },
  {
   "cell_type": "code",
   "execution_count": 684,
   "id": "ca39bf5d",
   "metadata": {},
   "outputs": [],
   "source": [
    "#Fit and transform X using the pca model, name it as X_reduced\n",
    "X_reduced = pca_model.fit_transform(X)"
   ]
  },
  {
   "cell_type": "markdown",
   "id": "48e5ac5c",
   "metadata": {},
   "source": [
    "Now using X_reduced, follow the exact same steps as before. To help remind you, here is a list of the steps that you should follow:\n",
    "\n",
    "1) Create training and test data using `train_test_split`\n",
    "\n",
    "2) Standardize the data\n",
    "\n",
    "3) Create the classifier\n",
    "\n",
    "4) Use 5-Fold Cross Validation to calculate the average accuracy of the model\n",
    "\n",
    "5) Fit the classifier on the whole training data\n",
    "\n",
    "6) Predict with the model on the test data\n",
    "\n",
    "7) Calculate the accuracy of the model on the test data"
   ]
  },
  {
   "cell_type": "code",
   "execution_count": 685,
   "id": "2980fa9c",
   "metadata": {},
   "outputs": [],
   "source": [
    "#Create training and test data\n",
    "X_train, X_test, y_train, y_test = train_test_split(X_reduced, y, test_size = 0.2, random_state = 0)"
   ]
  },
  {
   "cell_type": "code",
   "execution_count": 686,
   "id": "3b3e96e6",
   "metadata": {},
   "outputs": [],
   "source": [
    "#Standardize your data\n",
    "from sklearn.preprocessing import StandardScaler\n",
    "sc = StandardScaler()\n",
    "X_train = sc.fit_transform(X_train)\n",
    "X_test = sc.transform(X_test)"
   ]
  },
  {
   "cell_type": "code",
   "execution_count": 687,
   "id": "dc410167",
   "metadata": {},
   "outputs": [],
   "source": [
    "#Create the classifier\n",
    "classifier = LogisticRegression(random_state = 0)"
   ]
  },
  {
   "cell_type": "code",
   "execution_count": 688,
   "id": "661e9c07",
   "metadata": {},
   "outputs": [
    {
     "data": {
      "text/plain": [
       "0.7098630732449467"
      ]
     },
     "execution_count": 688,
     "metadata": {},
     "output_type": "execute_result"
    }
   ],
   "source": [
    "#Calculate the cross_val_score\n",
    "lr_score = cross_val_score(classifier, X_train, y_train)\n",
    "lr_score.mean()"
   ]
  },
  {
   "cell_type": "code",
   "execution_count": 689,
   "id": "33eacfad",
   "metadata": {},
   "outputs": [
    {
     "data": {
      "text/plain": [
       "LogisticRegression(random_state=0)"
      ]
     },
     "execution_count": 689,
     "metadata": {},
     "output_type": "execute_result"
    }
   ],
   "source": [
    "#Fit the model on the training data\n",
    "classifier.fit(X_train, y_train)"
   ]
  },
  {
   "cell_type": "code",
   "execution_count": 690,
   "id": "11d8f4bc",
   "metadata": {},
   "outputs": [],
   "source": [
    "#Predict the test data\n",
    "y_pred = classifier.predict(X_test)"
   ]
  },
  {
   "cell_type": "code",
   "execution_count": 691,
   "id": "874efeeb",
   "metadata": {},
   "outputs": [
    {
     "name": "stdout",
     "output_type": "stream",
     "text": [
      "The accuracy is 0.72\n"
     ]
    }
   ],
   "source": [
    "#Calculate the accuracy of the model on the test data\n",
    "print('The accuracy is', round(1 - (sum((y_test - y_pred)**2) / len(y_test)), 3) )"
   ]
  },
  {
   "cell_type": "markdown",
   "id": "12795e09",
   "metadata": {},
   "source": [
    "The increase in the cross validation score is insignificant, but the increase in the accuracy on the test data is definitely very welcome. "
   ]
  },
  {
   "cell_type": "markdown",
   "id": "dcfa727c",
   "metadata": {},
   "source": [
    "- - - -- "
   ]
  },
  {
   "cell_type": "markdown",
   "id": "2cd4cadd",
   "metadata": {},
   "source": [
    "## An introduction to Feed Forward Neural Networks"
   ]
  },
  {
   "cell_type": "markdown",
   "id": "af6831c6",
   "metadata": {},
   "source": [
    "In this section, we are going to apply a very simple feed forward neural network on the popular MNIST dataset. The MNIST dataset contains 28x28 images of hand-written digits. We will be using the neural network to predict the digit that is drawn in the image."
   ]
  },
  {
   "cell_type": "markdown",
   "id": "34776512",
   "metadata": {},
   "source": [
    "It would be useless to go through the tasks of this section without having at least a simple intuition into how a feed forward neural network works. I would highly recommend watching the 3Blue1Brown series about neural networks (or at least the first video), which you can access from here: https://www.youtube.com/watch?v=aircAruvnKk\n",
    "\n",
    "There are also loads of other resources online which you can check out to learn more about the specifics of neural networks, as well as other forms of neural networks such as Convolutional Neural Networks, Recurrent Neural Networks, etc. "
   ]
  },
  {
   "cell_type": "markdown",
   "id": "989d753c",
   "metadata": {},
   "source": [
    "Now, we will be using a very popular library for Machine Learning called <b> TensorFlow</b>. TensorFlow is an open source free library on Python used across a range of tasks but has a particular focus on the training and inference of neural networks. To install it, type on your command line/terminal `pip install tensorflow`. Then, import it into this notebook as `tf`. Also, import `sklearn`. "
   ]
  },
  {
   "cell_type": "code",
   "execution_count": 790,
   "id": "567fff9e",
   "metadata": {},
   "outputs": [],
   "source": [
    "#Import tensorflow as tf and sklearn \n",
    "import tensorflow as tf \n",
    "import sklearn"
   ]
  },
  {
   "cell_type": "markdown",
   "id": "a6e2dfd7",
   "metadata": {},
   "source": [
    "Now, we are going to retrieve the MNIST dataset from TensorFlow. Specifically, from a high-level API called Keras that is built on top of TensorFlow, with a focus on implementing deep learning models (i.e. Neural Networks with large numbers of hidden layers) with an intuitive approach. Use `tf.keras.datasets` to retrieve the MNIST dataset, and call it `mnist`. You can read more about this here (https://www.tensorflow.org/api_docs/python/tf/keras/datasets)"
   ]
  },
  {
   "cell_type": "code",
   "execution_count": 791,
   "id": "ad75a683",
   "metadata": {},
   "outputs": [],
   "source": [
    "#Retrieve the dataset from TensorFlow, and call it mnist\n",
    "mnist = tf.keras.datasets.mnist "
   ]
  },
  {
   "cell_type": "markdown",
   "id": "dca44d6a",
   "metadata": {},
   "source": [
    "By typing `mnist.load_data()`, it outputs a 2x2 block matrix, where the first row of blocks contain the x_train matrix and y_train vector, and the second row of blocks contain the x_test matrix and the y_test vector. Use this info to create `x_train`, `y_train`, `x_test` and `y_test` "
   ]
  },
  {
   "cell_type": "code",
   "execution_count": 792,
   "id": "e1824c77",
   "metadata": {},
   "outputs": [],
   "source": [
    "#Load the training and the test data\n",
    "(X_train, y_train),(X_test, y_test) = mnist.load_data() #load into training and test data"
   ]
  },
  {
   "cell_type": "markdown",
   "id": "f66c67e0",
   "metadata": {},
   "source": [
    "Print the shape of `X_train`, `y_train`, `X_test` and `y_test` to have an overview of the number of images that we have in the training and test sets:"
   ]
  },
  {
   "cell_type": "code",
   "execution_count": 793,
   "id": "f876043a",
   "metadata": {},
   "outputs": [
    {
     "name": "stdout",
     "output_type": "stream",
     "text": [
      "X_train's shape is (60000, 28, 28)\n",
      "y_train's shape is (60000,)\n",
      "X_test's shape is (10000, 28, 28)\n",
      "y_test's shape is (10000,)\n"
     ]
    }
   ],
   "source": [
    "#Print the shape of x_train, y_train, x_test and y_test\n",
    "print( \"X_train's shape is\" , X_train.shape)\n",
    "print( \"y_train's shape is\" , y_train.shape)\n",
    "print( \"X_test's shape is\" , X_test.shape)\n",
    "print( \"y_test's shape is\" , y_test.shape)"
   ]
  },
  {
   "cell_type": "code",
   "execution_count": 794,
   "id": "77f53d23",
   "metadata": {},
   "outputs": [
    {
     "data": {
      "text/plain": [
       "array([[  0,   0,   0,   0,   0,   0,   0,   0,   0,   0,   0,   0,   0,\n",
       "          0,   0,   0,   0,   0,   0,   0,   0,   0,   0,   0,   0,   0,\n",
       "          0,   0],\n",
       "       [  0,   0,   0,   0,   0,   0,   0,   0,   0,   0,   0,   0,   0,\n",
       "          0,   0,   0,   0,   0,   0,   0,   0,   0,   0,   0,   0,   0,\n",
       "          0,   0],\n",
       "       [  0,   0,   0,   0,   0,   0,   0,   0,   0,   0,   0,   0,   0,\n",
       "          0,   0,   0,   0,   0,   0,   0,   0,   0,   0,   0,   0,   0,\n",
       "          0,   0],\n",
       "       [  0,   0,   0,   0,   0,   0,   0,   0,   0,   0,   0,   0,   0,\n",
       "          0,   0,   0,   0,   0,   0,   0,   0,   0,   0,   0,   0,   0,\n",
       "          0,   0],\n",
       "       [  0,   0,   0,   0,   0,   0,   0,   0,   0,   0,   0,   0,   0,\n",
       "          0,   0,   0,   0,   0,   0,   0,   0,   0,   0,   0,   0,   0,\n",
       "          0,   0],\n",
       "       [  0,   0,   0,   0,   0,   0,   0,   0,   0,   0,   0,   0,   3,\n",
       "         18,  18,  18, 126, 136, 175,  26, 166, 255, 247, 127,   0,   0,\n",
       "          0,   0],\n",
       "       [  0,   0,   0,   0,   0,   0,   0,   0,  30,  36,  94, 154, 170,\n",
       "        253, 253, 253, 253, 253, 225, 172, 253, 242, 195,  64,   0,   0,\n",
       "          0,   0],\n",
       "       [  0,   0,   0,   0,   0,   0,   0,  49, 238, 253, 253, 253, 253,\n",
       "        253, 253, 253, 253, 251,  93,  82,  82,  56,  39,   0,   0,   0,\n",
       "          0,   0],\n",
       "       [  0,   0,   0,   0,   0,   0,   0,  18, 219, 253, 253, 253, 253,\n",
       "        253, 198, 182, 247, 241,   0,   0,   0,   0,   0,   0,   0,   0,\n",
       "          0,   0],\n",
       "       [  0,   0,   0,   0,   0,   0,   0,   0,  80, 156, 107, 253, 253,\n",
       "        205,  11,   0,  43, 154,   0,   0,   0,   0,   0,   0,   0,   0,\n",
       "          0,   0],\n",
       "       [  0,   0,   0,   0,   0,   0,   0,   0,   0,  14,   1, 154, 253,\n",
       "         90,   0,   0,   0,   0,   0,   0,   0,   0,   0,   0,   0,   0,\n",
       "          0,   0],\n",
       "       [  0,   0,   0,   0,   0,   0,   0,   0,   0,   0,   0, 139, 253,\n",
       "        190,   2,   0,   0,   0,   0,   0,   0,   0,   0,   0,   0,   0,\n",
       "          0,   0],\n",
       "       [  0,   0,   0,   0,   0,   0,   0,   0,   0,   0,   0,  11, 190,\n",
       "        253,  70,   0,   0,   0,   0,   0,   0,   0,   0,   0,   0,   0,\n",
       "          0,   0],\n",
       "       [  0,   0,   0,   0,   0,   0,   0,   0,   0,   0,   0,   0,  35,\n",
       "        241, 225, 160, 108,   1,   0,   0,   0,   0,   0,   0,   0,   0,\n",
       "          0,   0],\n",
       "       [  0,   0,   0,   0,   0,   0,   0,   0,   0,   0,   0,   0,   0,\n",
       "         81, 240, 253, 253, 119,  25,   0,   0,   0,   0,   0,   0,   0,\n",
       "          0,   0],\n",
       "       [  0,   0,   0,   0,   0,   0,   0,   0,   0,   0,   0,   0,   0,\n",
       "          0,  45, 186, 253, 253, 150,  27,   0,   0,   0,   0,   0,   0,\n",
       "          0,   0],\n",
       "       [  0,   0,   0,   0,   0,   0,   0,   0,   0,   0,   0,   0,   0,\n",
       "          0,   0,  16,  93, 252, 253, 187,   0,   0,   0,   0,   0,   0,\n",
       "          0,   0],\n",
       "       [  0,   0,   0,   0,   0,   0,   0,   0,   0,   0,   0,   0,   0,\n",
       "          0,   0,   0,   0, 249, 253, 249,  64,   0,   0,   0,   0,   0,\n",
       "          0,   0],\n",
       "       [  0,   0,   0,   0,   0,   0,   0,   0,   0,   0,   0,   0,   0,\n",
       "          0,  46, 130, 183, 253, 253, 207,   2,   0,   0,   0,   0,   0,\n",
       "          0,   0],\n",
       "       [  0,   0,   0,   0,   0,   0,   0,   0,   0,   0,   0,   0,  39,\n",
       "        148, 229, 253, 253, 253, 250, 182,   0,   0,   0,   0,   0,   0,\n",
       "          0,   0],\n",
       "       [  0,   0,   0,   0,   0,   0,   0,   0,   0,   0,  24, 114, 221,\n",
       "        253, 253, 253, 253, 201,  78,   0,   0,   0,   0,   0,   0,   0,\n",
       "          0,   0],\n",
       "       [  0,   0,   0,   0,   0,   0,   0,   0,  23,  66, 213, 253, 253,\n",
       "        253, 253, 198,  81,   2,   0,   0,   0,   0,   0,   0,   0,   0,\n",
       "          0,   0],\n",
       "       [  0,   0,   0,   0,   0,   0,  18, 171, 219, 253, 253, 253, 253,\n",
       "        195,  80,   9,   0,   0,   0,   0,   0,   0,   0,   0,   0,   0,\n",
       "          0,   0],\n",
       "       [  0,   0,   0,   0,  55, 172, 226, 253, 253, 253, 253, 244, 133,\n",
       "         11,   0,   0,   0,   0,   0,   0,   0,   0,   0,   0,   0,   0,\n",
       "          0,   0],\n",
       "       [  0,   0,   0,   0, 136, 253, 253, 253, 212, 135, 132,  16,   0,\n",
       "          0,   0,   0,   0,   0,   0,   0,   0,   0,   0,   0,   0,   0,\n",
       "          0,   0],\n",
       "       [  0,   0,   0,   0,   0,   0,   0,   0,   0,   0,   0,   0,   0,\n",
       "          0,   0,   0,   0,   0,   0,   0,   0,   0,   0,   0,   0,   0,\n",
       "          0,   0],\n",
       "       [  0,   0,   0,   0,   0,   0,   0,   0,   0,   0,   0,   0,   0,\n",
       "          0,   0,   0,   0,   0,   0,   0,   0,   0,   0,   0,   0,   0,\n",
       "          0,   0],\n",
       "       [  0,   0,   0,   0,   0,   0,   0,   0,   0,   0,   0,   0,   0,\n",
       "          0,   0,   0,   0,   0,   0,   0,   0,   0,   0,   0,   0,   0,\n",
       "          0,   0]], dtype=uint8)"
      ]
     },
     "execution_count": 794,
     "metadata": {},
     "output_type": "execute_result"
    }
   ],
   "source": [
    "#View the first data entry in x_train\n",
    "X_train[0]"
   ]
  },
  {
   "cell_type": "code",
   "execution_count": 795,
   "id": "a9a4b160",
   "metadata": {},
   "outputs": [
    {
     "data": {
      "text/plain": [
       "5"
      ]
     },
     "execution_count": 795,
     "metadata": {},
     "output_type": "execute_result"
    }
   ],
   "source": [
    "#View the first data entry in y_train\n",
    "y_train[0]"
   ]
  },
  {
   "cell_type": "markdown",
   "id": "43740969",
   "metadata": {},
   "source": [
    "As you can see:\n",
    "- A data entry in X_train consists of a 28x28 matrix, where each entry in the matrix represents the pixel value at this position in the image. \n",
    "\n",
    "- A data entry in y_train consists of the digit that is drawn in the image."
   ]
  },
  {
   "cell_type": "markdown",
   "id": "467f520b",
   "metadata": {},
   "source": [
    "Now, plot the first three images from the training data:\n",
    "\n",
    "<b> Hint: </b> Look up `plt.imshow`"
   ]
  },
  {
   "cell_type": "code",
   "execution_count": 796,
   "id": "1438c51e",
   "metadata": {},
   "outputs": [
    {
     "data": {
      "image/png": "[encoded data removed]",
      "text/plain": [
       "<Figure size 640x480 with 3 Axes>"
      ]
     },
     "metadata": {},
     "output_type": "display_data"
    }
   ],
   "source": [
    "#Plot the first three images\n",
    "fig, ax = plt.subplots(1,3)\n",
    "ax[0].imshow(X_train[0], cmap='gray')\n",
    "ax[1].imshow(X_train[1], cmap='gray')\n",
    "ax[2].imshow(X_train[2], cmap='gray')\n",
    "plt.show()"
   ]
  },
  {
   "cell_type": "markdown",
   "id": "83190b02",
   "metadata": {},
   "source": [
    "Now that we have understood the structure of our data, let us start working on creating the neural network. "
   ]
  },
  {
   "cell_type": "markdown",
   "id": "68c4acc0",
   "metadata": {},
   "source": [
    "-- - - - -"
   ]
  },
  {
   "cell_type": "markdown",
   "id": "c431c2ad",
   "metadata": {},
   "source": [
    "A first step that is commonly used for projects like this one is to normalise the input data. Similar to Logistic Regression, it helps in speeding up the process of learning for the neural network, and can help in saving memory as well.\n",
    "\n",
    "Use `tf.keras.utils.normalize` to do so. You can find its documentation here (https://www.tensorflow.org/api_docs/python/tf/keras/utils/normalize). Apply it to X_train, and set `axis` to 1"
   ]
  },
  {
   "cell_type": "code",
   "execution_count": 797,
   "id": "6dd793ce",
   "metadata": {},
   "outputs": [],
   "source": [
    "#Apply tf.keras.utils.normalize on x_train and set axis to 1\n",
    "X_train = tf.keras.utils.normalize(X_train, axis=1)\n",
    "X_test = tf.keras.utils.normalize(X_test, axis=1)"
   ]
  },
  {
   "cell_type": "markdown",
   "id": "1327b5c8",
   "metadata": {},
   "source": [
    "- - - - -"
   ]
  },
  {
   "cell_type": "markdown",
   "id": "0e6b29d3",
   "metadata": {},
   "source": [
    "Now, we are going to create our model for the neural network. One thing that you will most probably hear would be that building a neural network is sort of a form of art. There are lots of properties for the neural network that have loads of different options available, and you, the artist, get to choose and match the ones that you think would work best for your specific case. For this project, I will tell you what options to choose, and explain them briefly."
   ]
  },
  {
   "cell_type": "markdown",
   "id": "dec10810",
   "metadata": {},
   "source": [
    "To start off, we will choose a model from Keras called Sequential. A Sequential model is a model which allows you to create layers in a step by step fashion, which is what we want in our Feed Forward Neural Network.\n",
    "\n",
    "You can find its documentation here (https://www.tensorflow.org/api_docs/python/tf/keras/Sequential). Create a sequential model using the code `tf.keras.models.Sequential()`, and name it `model`"
   ]
  },
  {
   "cell_type": "code",
   "execution_count": 798,
   "id": "c9c98cd3",
   "metadata": {},
   "outputs": [],
   "source": [
    "#Create a sequential model using the code `tf.keras.models.Sequential()`, and name it `model`\n",
    "model = tf.keras.models.Sequential()"
   ]
  },
  {
   "cell_type": "markdown",
   "id": "65f4cd73",
   "metadata": {},
   "source": [
    "Next, we are going to create the layers for our neural network. In our case, we are going to have 1 input layer, two hidden layers and an output layer. \n",
    "\n",
    "Starting from the input layer, we would like to flatten the input layer as it was explained in the 3Blue1Brown video, so that we have one layer of 784 (28 x 28) nodes to accompany the pixels that we have. \n",
    "\n",
    "Use `model.add(tf.keras.layers.Flatten())`. You can find its documentation here (https://www.tensorflow.org/api_docs/python/tf/keras/layers/Flatten)"
   ]
  },
  {
   "cell_type": "code",
   "execution_count": 799,
   "id": "c93a62d3",
   "metadata": {},
   "outputs": [],
   "source": [
    "#Flatten the input layer\n",
    "model.add(tf.keras.layers.Flatten())"
   ]
  },
  {
   "cell_type": "markdown",
   "id": "3f26fe1f",
   "metadata": {},
   "source": [
    "Next, we are going to create the two hidden layers. We are going to let them have 128 nodes, with an activation function called ReLU."
   ]
  },
  {
   "cell_type": "markdown",
   "id": "d50ef5bd",
   "metadata": {},
   "source": [
    "### ReLU"
   ]
  },
  {
   "cell_type": "markdown",
   "id": "ce79b0cd",
   "metadata": {},
   "source": [
    "ReLU - Rectified Linear Unit - is one of the most popular activation functions that are used for Neural Networks. It is defined as: \n",
    "\n",
    "$$ f(x) = max(x,0) $$\n",
    "\n"
   ]
  },
  {
   "cell_type": "markdown",
   "id": "76d9fe46",
   "metadata": {},
   "source": [
    "Plot the function in order to get an idea of what it looks like:"
   ]
  },
  {
   "cell_type": "code",
   "execution_count": 800,
   "id": "57d05820",
   "metadata": {},
   "outputs": [
    {
     "data": {
      "image/png": "[encoded data removed]",
      "text/plain": [
       "<Figure size 640x480 with 1 Axes>"
      ]
     },
     "metadata": {},
     "output_type": "display_data"
    }
   ],
   "source": [
    "#Plot the ReLU function\n",
    "x = np.linspace(-10,10,10000)\n",
    "y = np.maximum(x,0)\n",
    "\n",
    "plt.plot(x,y)\n",
    "plt.title('ReLU')\n",
    "plt.show()"
   ]
  },
  {
   "cell_type": "markdown",
   "id": "29259203",
   "metadata": {},
   "source": [
    "Here is a link where you can read more about activation functions such as sigmoid and tanh, their drawbacks, and how ReLU outperforms them in some scenarios: https://machinelearningmastery.com/rectified-linear-activation-function-for-deep-learning-neural-networks/"
   ]
  },
  {
   "cell_type": "markdown",
   "id": "f32d27d8",
   "metadata": {},
   "source": [
    "Now, add the two hidden layers using the code `model.add(tf.keras.layers.Dense( -- arguments to be specified by you -- ))`, You can find its documentation here (https://www.tensorflow.org/api_docs/python/tf/keras/layers/Dense).\n",
    "\n",
    "Set the number of nodes to `128` and the activation function to `tf.nn.relu`:"
   ]
  },
  {
   "cell_type": "code",
   "execution_count": 801,
   "id": "d51a14af",
   "metadata": {},
   "outputs": [],
   "source": [
    "# Add the two hidden layers\n",
    "model.add(tf.keras.layers.Dense(128, activation=tf.nn.relu))\n",
    "model.add(tf.keras.layers.Dense(128, activation=tf.nn.relu))"
   ]
  },
  {
   "cell_type": "markdown",
   "id": "cec11b9a",
   "metadata": {},
   "source": [
    "Now, we are going to add the output layer. As we have 10 classes, where each class represents a specific digit, we are going to set the nodes to `10`. As for the activation function, we are going to be using a function called softmax, which is called `tf.nn.softmax` in TensorFlow. In a nutshell, what softmax does is similar to what a logistic/sigmoid function does in logistic regression. It outputs a probability distribution taking values in the 10 different classes we have, so that each class has a probability associated with it, and the sum of the probabilities across the classes equal 1. \n",
    "\n",
    "Use `model.add(tf.keras.layers.Dense( -- arguments to be specified by you -- ))` again, set the nodes to `10` and the activation function to `tf.nn.softmax`"
   ]
  },
  {
   "cell_type": "code",
   "execution_count": 802,
   "id": "5a2457c1",
   "metadata": {},
   "outputs": [],
   "source": [
    "#Add the output layer with 10 nodes and softmax activation function\n",
    "model.add(tf.keras.layers.Dense(10, activation=tf.nn.softmax))"
   ]
  },
  {
   "cell_type": "markdown",
   "id": "950d59ad",
   "metadata": {},
   "source": [
    "Now that we have created our layers, all we need to do now is to specifiy an optimizer for the neural network, a loss function and the metrics we would like to keep track of. \n",
    "\n",
    "- - - - - \n",
    "\n",
    "<b>Loss function:</b> This is a map\n",
    "\n",
    "$$ L : Y \\times Y \\to \\mathbb{R} $$\n",
    "\n",
    "which takes in the predicted value for y, the true value for y, and outputs a real number. It is created in a way in which it penalises inaccuracy and incorrectness. This means that, the farther away the predicted value is from the true value (in the continuous case), or when the predicted value is not equal to the true value (in the discrete case), the output of the loss function is larger.\n",
    "\n",
    "An example in the continuous case would be the mean squared error:\n",
    "\n",
    "$$ L(Y^*, Y) = (Y^* - Y)^2 $$\n",
    "\n",
    "An example in the discrete case is the zero-one loss:\n",
    "\n",
    "$$ L(Y^*, Y) = \\mathbb{1} \\{Y^* \\neq Y\\} $$\n",
    "\n",
    "When calculating the loss over the training data, you apply the loss function over every training point, sum over all of  the them and then average them.\n",
    "\n",
    "Intuitively, we are aiming for having more accurate predictions, which corresponds to having smaller loss function over the training data. One very important thing to mention is that using the parameters that minimise the loss function is not always ideal. Similar to what we had with Logistic Regression, It could lead to the model fitting to the training data extremely well, to the point that it learns the random noises of the training data and hence leads to overfitting and poor performance over unseen data. The main goal is to find parameters that learn the main structure and properties of the data to generalise and perform well over unseen data (the test data). \n",
    "\n",
    "This leads on well to what an optimizer is.\n",
    "\n",
    "<b>Optimizer:</b> An optimizer is an algorithm that is used to adjust the parameters of the model in a way that leads to the decreasing of the loss function value over the training data. An example for this would be gradient descent, which you should have seen in the 3Blue1Brown videos. \n",
    "\n",
    "- - - -"
   ]
  },
  {
   "cell_type": "markdown",
   "id": "9e02e0f9",
   "metadata": {},
   "source": [
    "Now, we are going to use an optimizer called <b> Adam (Adaptive Moment Estimation) </b>, which combines two stochastic gradient descent called <b> Adaptive Gradients </b> and <b> Root Mean Square Error </b>. Feel free to read more about them and find why this specific optimization algorithm is preferred to many other ones, but it's not essential to know how it works for now.\n",
    "\n",
    "As for the loss function, we will be using <b> Sparse Categorical Cross Entropy</b>. To explain what that is, we should start by explaining <b>Categorical Cross Entropy</b>. \n",
    "\n",
    "Recall how the output layer contained $10$ nodes representing the probability distribution of the $10$ classes. We would like a loss function that would be able to measure in some way how close or far away two probability distributions are from each other. This is exactly what Categorical Cross Entropy does.\n",
    "\n",
    "<b>Categorical Cross Entropy:</b> This is a loss function that compares the probability distributions of the true value and the predicted value. Let $K$ be the number of classes, and consider the training data given as pairs $(x,y)$, where $x$ is the vector of the predictor variables and $y$ is the response. $y \\in \\mathbb{R}^k $ is a vector containing the probabilities of the classes for the true value, where $y_j = 1 $ if $x$ belongs to class $j$, and $0$ otherwise. Let $y^*$ be the vector containing the predicted probabilities of the classes, We then have:\n",
    "\n",
    "$$ L(y,y^*) = -\\sum_{i=0}^{K} y_i log (y_i^*) + (1-y_i)log(1-y_i^*)  $$\n",
    "\n",
    "For example, assume we have an image with a digit $5$ drawn in it. This means that $y$, the probability distribution for the true value, is equal to $(0,0,0,0,0,1,0,0,0,0)$. $y^*$ would be represented by a vector containing the values in the nodes in the output layer of our neural network, with each entry (or node in the layer) representing the probability of the image having a specific digit. $K$ would be equal to $10$. This means that the categorical cross entropy would be:\n",
    "\n",
    "$$ L(y,y^*) = -\\sum_{i=0}^{10} y_i log (y_i^*) + (1-y_i)log(1-y_i^*) $$\n",
    "\n",
    "So, the closer $y_5^*$ is to $1$, the higher the probability that the image has the digit $5$ drawn in it, the smaller the loss function.\n",
    "\n",
    "The one we are going to use is called <b> Sparse Categorical Cross Entropy</b>, which differs from the normal categorical cross entropy in the fact that we have $y$ taking values in $0,1,2,3, ... , 9$ instead of one-hot encoded vectors in $\\mathbb{R}^k$ like the examples shown above.\n",
    "\n",
    "-------\n",
    "\n",
    "Now, use `mode.compile( -- arguments to be specified by you --  ) `, which you can find its documentation here (https://www.tutorialspoint.com/keras/keras_model_compilation.htm). \n",
    "\n",
    "Set the `optimizer` argument as `adam`, the `loss` argument as `sparse_categorical_crossentropy` and the `metrics` as `['accuracy']`"
   ]
  },
  {
   "cell_type": "code",
   "execution_count": 803,
   "id": "8079a999",
   "metadata": {},
   "outputs": [],
   "source": [
    "#Use model.compile with the prescribed arguments\n",
    "model.compile(optimizer = 'adam',\n",
    "             loss= 'sparse_categorical_crossentropy',\n",
    "             metrics=['accuracy'])"
   ]
  },
  {
   "cell_type": "markdown",
   "id": "310b5bf3",
   "metadata": {},
   "source": [
    "Now, we are going to apply 5-Fold Cross Validation to assess the average accuracy of the model. This is a bit different to when we used `cross_val_score` from before, so you will find below a written function that takes as arguments the predictor and response variables for the training data, as well as the number of folds. (Definitely feel free to ignore my function and create your own one!) It will then output two lists called `scores` (containing the accuracy of the model over the 5 validation datasets) and `histories` containing information about the model fit on the different folds such as the value for the loss function over the training data and the validation loss of the validation data."
   ]
  },
  {
   "cell_type": "markdown",
   "id": "5367eba8",
   "metadata": {},
   "source": [
    "One thing that is new in my code is `epochs`. An epoch is the process of going through a step of forward propogation and back propogation to update the weights of the model. Setting `epochs=3` in the fitting function mean that we do this process 3 times over all of the data. One thing that you can explore is, at what value of epochs does the model start to overfit?"
   ]
  },
  {
   "cell_type": "code",
   "execution_count": 804,
   "id": "329eaf65",
   "metadata": {},
   "outputs": [],
   "source": [
    "from sklearn.model_selection import KFold\n",
    "from sklearn.model_selection import cross_val_score\n",
    "import math"
   ]
  },
  {
   "cell_type": "code",
   "execution_count": 805,
   "id": "e7333fe8",
   "metadata": {},
   "outputs": [],
   "source": [
    "# evaluate a model using k-fold cross-validation\n",
    "def evaluate_model(dataX, dataY, n_folds):\n",
    "    scores, histories = list(), list()\n",
    "    # prepare cross validation\n",
    "    kfold = KFold(n_folds, shuffle=True, random_state = 0)\n",
    "    # enumerate splits\n",
    "    for train_ix, test_ix in kfold.split(dataX):\n",
    "        # select rows for train and test\n",
    "        trainX, trainY, testX, testY = dataX[train_ix], dataY[train_ix], dataX[test_ix], dataY[test_ix]\n",
    "        #define_model\n",
    "        model = tf.keras.models.Sequential()\n",
    "        model.add(tf.keras.layers.Flatten())\n",
    "        model.add(tf.keras.layers.Dense(128, activation=tf.nn.relu))\n",
    "        model.add(tf.keras.layers.Dense(128, activation=tf.nn.relu))\n",
    "        model.add(tf.keras.layers.Dense(10, activation=tf.nn.softmax))\n",
    "        model.compile(optimizer = 'adam',\n",
    "             loss= 'sparse_categorical_crossentropy',\n",
    "             metrics=['accuracy'])\n",
    "        # fit model\n",
    "        history = model.fit(trainX, trainY, epochs=3, validation_data=(testX, testY))\n",
    "        # evaluate model\n",
    "        acc = model.evaluate(testX, testY)[1]\n",
    "        # stores scores\n",
    "        scores.append(acc)\n",
    "        histories.append(history)\n",
    "    return scores, histories\n"
   ]
  },
  {
   "cell_type": "markdown",
   "id": "3470baae",
   "metadata": {},
   "source": [
    "Now, run the function on `x_train` and `y_train`, setting the number of folds to `5`, and save the output in a variable called `results`:"
   ]
  },
  {
   "cell_type": "code",
   "execution_count": 806,
   "id": "74145b95",
   "metadata": {},
   "outputs": [
    {
     "name": "stdout",
     "output_type": "stream",
     "text": [
      "Epoch 1/3\n",
      "1500/1500 [==============================] - 3s 2ms/step - loss: 1.9615 - accuracy: 0.8649 - val_loss: 0.5515 - val_accuracy: 0.9014\n",
      "Epoch 2/3\n",
      "1500/1500 [==============================] - 2s 1ms/step - loss: 0.4253 - accuracy: 0.9181 - val_loss: 0.4364 - val_accuracy: 0.9053\n",
      "Epoch 3/3\n",
      "1500/1500 [==============================] - 2s 1ms/step - loss: 0.3034 - accuracy: 0.9318 - val_loss: 0.2540 - val_accuracy: 0.9382\n",
      "375/375 [==============================] - 0s 762us/step - loss: 0.2540 - accuracy: 0.9382\n",
      "Epoch 1/3\n",
      "1500/1500 [==============================] - 2s 1ms/step - loss: 1.9481 - accuracy: 0.8577 - val_loss: 0.6448 - val_accuracy: 0.8873\n",
      "Epoch 2/3\n",
      "1500/1500 [==============================] - 2s 1ms/step - loss: 0.4169 - accuracy: 0.9155 - val_loss: 0.4260 - val_accuracy: 0.9109\n",
      "Epoch 3/3\n",
      "1500/1500 [==============================] - 2s 1ms/step - loss: 0.2884 - accuracy: 0.9337 - val_loss: 0.2953 - val_accuracy: 0.9323\n",
      "375/375 [==============================] - 0s 893us/step - loss: 0.2953 - accuracy: 0.9323\n",
      "Epoch 1/3\n",
      "1500/1500 [==============================] - 2s 1ms/step - loss: 2.0497 - accuracy: 0.8682 - val_loss: 0.8105 - val_accuracy: 0.8863\n",
      "Epoch 2/3\n",
      "1500/1500 [==============================] - 4s 3ms/step - loss: 0.4270 - accuracy: 0.9188 - val_loss: 0.3801 - val_accuracy: 0.9211\n",
      "Epoch 3/3\n",
      "1500/1500 [==============================] - 4s 3ms/step - loss: 0.2836 - accuracy: 0.9347 - val_loss: 0.3197 - val_accuracy: 0.9288\n",
      "375/375 [==============================] - 1s 2ms/step - loss: 0.3197 - accuracy: 0.9288\n",
      "Epoch 1/3\n",
      "1500/1500 [==============================] - 5s 3ms/step - loss: 1.9781 - accuracy: 0.8692 - val_loss: 0.5661 - val_accuracy: 0.9063\n",
      "Epoch 2/3\n",
      "1500/1500 [==============================] - 4s 3ms/step - loss: 0.3946 - accuracy: 0.9235 - val_loss: 0.3315 - val_accuracy: 0.9237\n",
      "Epoch 3/3\n",
      "1500/1500 [==============================] - 4s 3ms/step - loss: 0.2516 - accuracy: 0.9391 - val_loss: 0.2306 - val_accuracy: 0.9460\n",
      "375/375 [==============================] - 1s 2ms/step - loss: 0.2306 - accuracy: 0.9460\n",
      "Epoch 1/3\n",
      "1500/1500 [==============================] - 4s 2ms/step - loss: 2.0780 - accuracy: 0.8712 - val_loss: 0.6617 - val_accuracy: 0.9032\n",
      "Epoch 2/3\n",
      "1500/1500 [==============================] - 2s 1ms/step - loss: 0.4086 - accuracy: 0.9264 - val_loss: 0.3434 - val_accuracy: 0.9318\n",
      "Epoch 3/3\n",
      "1500/1500 [==============================] - 2s 1ms/step - loss: 0.2343 - accuracy: 0.9428 - val_loss: 0.2036 - val_accuracy: 0.9490\n",
      "375/375 [==============================] - 0s 794us/step - loss: 0.2036 - accuracy: 0.9490\n"
     ]
    }
   ],
   "source": [
    "#Run the evaluate_model function\n",
    "results = evaluate_model(x_train, y_train,5)"
   ]
  },
  {
   "cell_type": "code",
   "execution_count": 807,
   "id": "91943551",
   "metadata": {},
   "outputs": [
    {
     "data": {
      "text/plain": [
       "([0.9381666779518127,\n",
       "  0.9323333501815796,\n",
       "  0.9288333058357239,\n",
       "  0.9459999799728394,\n",
       "  0.9490000009536743],\n",
       " [<keras.callbacks.History at 0x7fe2617a4850>,\n",
       "  <keras.callbacks.History at 0x7fe13ac3c400>,\n",
       "  <keras.callbacks.History at 0x7fe129616310>,\n",
       "  <keras.callbacks.History at 0x7fe129b23c70>,\n",
       "  <keras.callbacks.History at 0x7fe12962a880>])"
      ]
     },
     "execution_count": 807,
     "metadata": {},
     "output_type": "execute_result"
    }
   ],
   "source": [
    "#View results\n",
    "results"
   ]
  },
  {
   "cell_type": "markdown",
   "id": "8093fb6f",
   "metadata": {},
   "source": [
    "Print the average accuracy over the different validation sets:"
   ]
  },
  {
   "cell_type": "code",
   "execution_count": 808,
   "id": "c0da68a2",
   "metadata": {},
   "outputs": [
    {
     "name": "stdout",
     "output_type": "stream",
     "text": [
      "The average accuracy over the different validation sets is 0.939\n"
     ]
    }
   ],
   "source": [
    "#Print the average accuracy over the different validation sets\n",
    "print('The average accuracy over the different validation sets is', round(np.mean(results[0]),3))"
   ]
  },
  {
   "cell_type": "markdown",
   "id": "ccbef826",
   "metadata": {},
   "source": [
    "Here is another function that provides visualisations of the cross entropy loss values and the accuracy for the training data and the validation data that we got over the 3 epochs in the 5-Fold Cross Validation:"
   ]
  },
  {
   "cell_type": "code",
   "execution_count": 811,
   "id": "05de397d",
   "metadata": {},
   "outputs": [],
   "source": [
    "def summarize_diagnostics(histories):\n",
    "    for i in range(len(histories)):\n",
    "        # plot loss\n",
    "        fig, ax = plt.subplots(1,2)\n",
    "        ax[0].set_title('Cross Entropy Loss')\n",
    "        ax[0].plot(histories[i].history['loss'], color='blue', label='train', marker='.') \n",
    "        ax[0].plot(histories[i].history['val_loss'], color='orange', label='test', marker='.')\n",
    "        ax[0].legend()\n",
    "        # plot accuracy\n",
    "        ax[1].set_title('Classification Accuracy')\n",
    "        ax[1].plot(histories[i].history['accuracy'], color='blue', label='train', marker='.')\n",
    "        ax[1].plot(histories[i].history['val_accuracy'], color='orange', label='test', marker='.')\n",
    "        ax[1].legend()\n",
    "    plt.show()\n",
    " "
   ]
  },
  {
   "cell_type": "code",
   "execution_count": 812,
   "id": "9404a5ed",
   "metadata": {},
   "outputs": [
    {
     "data": {
      "image/png": "[encoded data removed]",
      "text/plain": [
       "<Figure size 640x480 with 2 Axes>"
      ]
     },
     "metadata": {},
     "output_type": "display_data"
    },
    {
     "data": {
      "image/png": "[encoded data removed]",
      "text/plain": [
       "<Figure size 640x480 with 2 Axes>"
      ]
     },
     "metadata": {},
     "output_type": "display_data"
    },
    {
     "data": {
      "image/png": "[encoded data removed]",
      "text/plain": [
       "<Figure size 640x480 with 2 Axes>"
      ]
     },
     "metadata": {},
     "output_type": "display_data"
    },
    {
     "data": {
      "image/png": "[encoded data removed]",
      "text/plain": [
       "<Figure size 640x480 with 2 Axes>"
      ]
     },
     "metadata": {},
     "output_type": "display_data"
    },
    {
     "data": {
      "image/png": "[encoded data removed]",
      "text/plain": [
       "<Figure size 640x480 with 2 Axes>"
      ]
     },
     "metadata": {},
     "output_type": "display_data"
    }
   ],
   "source": [
    "#Use summarize_diagnostics on histories\n",
    "summarize_diagnostics(histories)"
   ]
  },
  {
   "cell_type": "markdown",
   "id": "17ce85c8",
   "metadata": {},
   "source": [
    "Try to interpret those visualisations on your own. You can also plot them all on top of each other to get a general overview of how the cross entropy loss and accuracy change. You can use both the functions `evaluate_model` and `summarize_diagnostics` and try to experiment with different epochs values, different folds and how this might affect the values for the accuracy and the cross entropy loss on the training and validating data."
   ]
  },
  {
   "cell_type": "markdown",
   "id": "f73da46e",
   "metadata": {},
   "source": [
    "Now, fit the model on all of the training data, and output the accuracy on the test data by setting the `validation_data` parameter in the `model.fit()` function as y_test"
   ]
  },
  {
   "cell_type": "code",
   "execution_count": 814,
   "id": "3e49fe25",
   "metadata": {},
   "outputs": [
    {
     "name": "stdout",
     "output_type": "stream",
     "text": [
      "Epoch 1/3\n",
      "1875/1875 [==============================] - 3s 1ms/step - loss: 0.2660 - accuracy: 0.9224 - val_loss: 0.1321 - val_accuracy: 0.9617\n",
      "Epoch 2/3\n",
      "1875/1875 [==============================] - 2s 1ms/step - loss: 0.1096 - accuracy: 0.9661 - val_loss: 0.1096 - val_accuracy: 0.9669\n",
      "Epoch 3/3\n",
      "1875/1875 [==============================] - 2s 1ms/step - loss: 0.0740 - accuracy: 0.9767 - val_loss: 0.0986 - val_accuracy: 0.9692\n",
      "313/313 [==============================] - 0s 778us/step - loss: 0.0986 - accuracy: 0.9692\n"
     ]
    }
   ],
   "source": [
    "#Fit the model on the training data\n",
    "model = tf.keras.models.Sequential()\n",
    "model.add(tf.keras.layers.Flatten())\n",
    "model.add(tf.keras.layers.Dense(128, activation=tf.nn.relu))\n",
    "model.add(tf.keras.layers.Dense(128, activation=tf.nn.relu))\n",
    "model.add(tf.keras.layers.Dense(10, activation=tf.nn.softmax))\n",
    "\n",
    "model.compile(optimizer = 'adam',\n",
    "             loss= 'sparse_categorical_crossentropy',\n",
    "             metrics=['accuracy'])\n",
    "\n",
    "model.fit(X_train, y_train, epochs=3, validation_data = (X_test, y_test))\n",
    "acc= model.evaluate(X_test, y_test)[1]"
   ]
  },
  {
   "cell_type": "code",
   "execution_count": 817,
   "id": "99c4f211",
   "metadata": {},
   "outputs": [
    {
     "name": "stdout",
     "output_type": "stream",
     "text": [
      "The accuracy on the test data is 0.969\n"
     ]
    }
   ],
   "source": [
    "print('The accuracy on the test data is', round(acc,3))"
   ]
  },
  {
   "cell_type": "markdown",
   "id": "d282d262",
   "metadata": {},
   "source": [
    "Nowadays, Feed Forward Neural Networks aren't the most powerful when it comes to image classification. Convolutional Neural Networks have become the standard for image classification due to the improvements they have in performance over the other neural networks. If you're interested, check out how a CNN works, and you can then have a look at this tutorial: https://towardsdatascience.com/image-classification-in-10-minutes-with-mnist-dataset-54c35b77a38d \n",
    "to understand how you can apply CNN on the MNIST dataset. "
   ]
  },
  {
   "cell_type": "markdown",
   "id": "8d19d6e5",
   "metadata": {},
   "source": [
    "- - - -- "
   ]
  }
 ],
 "metadata": {
  "kernelspec": {
   "display_name": "Python 3",
   "language": "python",
   "name": "python3"
  },
  "language_info": {
   "codemirror_mode": {
    "name": "ipython",
    "version": 3
   },
   "file_extension": ".py",
   "mimetype": "text/x-python",
   "name": "python",
   "nbconvert_exporter": "python",
   "pygments_lexer": "ipython3",
   "version": "3.8.5"
  }
 },
 "nbformat": 4,
 "nbformat_minor": 5
}
